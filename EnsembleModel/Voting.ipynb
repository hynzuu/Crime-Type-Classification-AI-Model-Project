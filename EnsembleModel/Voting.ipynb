{
  "cells": [
    {
      "cell_type": "markdown",
      "metadata": {
        "id": "lCrP-xQavu2u"
      },
      "source": [
        "# Import  \n",
        "파이썬에서 다른 모듈이나 패키지에서 함수, 클래스 등을 가져옵니다."
      ]
    },
    {
      "cell_type": "code",
      "execution_count": 1,
      "metadata": {
        "colab": {
          "base_uri": "https://localhost:8080/"
        },
        "id": "X-5cu56Fvu2z",
        "outputId": "ccb3a886-3e82-48af-8637-301fb23fd361"
      },
      "outputs": [
        {
          "name": "stdout",
          "output_type": "stream",
          "text": [
            "Requirement already satisfied: koreanize-matplotlib in c:\\users\\home\\appdata\\local\\packages\\pythonsoftwarefoundation.python.3.11_qbz5n2kfra8p0\\localcache\\local-packages\\python311\\site-packages (0.1.1)\n",
            "Requirement already satisfied: matplotlib in c:\\users\\home\\appdata\\local\\packages\\pythonsoftwarefoundation.python.3.11_qbz5n2kfra8p0\\localcache\\local-packages\\python311\\site-packages (from koreanize-matplotlib) (3.7.1)\n",
            "Requirement already satisfied: contourpy>=1.0.1 in c:\\users\\home\\appdata\\local\\packages\\pythonsoftwarefoundation.python.3.11_qbz5n2kfra8p0\\localcache\\local-packages\\python311\\site-packages (from matplotlib->koreanize-matplotlib) (1.0.7)\n",
            "Requirement already satisfied: cycler>=0.10 in c:\\users\\home\\appdata\\local\\packages\\pythonsoftwarefoundation.python.3.11_qbz5n2kfra8p0\\localcache\\local-packages\\python311\\site-packages (from matplotlib->koreanize-matplotlib) (0.11.0)\n",
            "Requirement already satisfied: fonttools>=4.22.0 in c:\\users\\home\\appdata\\local\\packages\\pythonsoftwarefoundation.python.3.11_qbz5n2kfra8p0\\localcache\\local-packages\\python311\\site-packages (from matplotlib->koreanize-matplotlib) (4.39.3)\n",
            "Requirement already satisfied: kiwisolver>=1.0.1 in c:\\users\\home\\appdata\\local\\packages\\pythonsoftwarefoundation.python.3.11_qbz5n2kfra8p0\\localcache\\local-packages\\python311\\site-packages (from matplotlib->koreanize-matplotlib) (1.4.4)\n",
            "Requirement already satisfied: numpy>=1.20 in c:\\users\\home\\appdata\\local\\packages\\pythonsoftwarefoundation.python.3.11_qbz5n2kfra8p0\\localcache\\local-packages\\python311\\site-packages (from matplotlib->koreanize-matplotlib) (1.23.5)\n",
            "Requirement already satisfied: packaging>=20.0 in c:\\users\\home\\appdata\\local\\packages\\pythonsoftwarefoundation.python.3.11_qbz5n2kfra8p0\\localcache\\local-packages\\python311\\site-packages (from matplotlib->koreanize-matplotlib) (23.1)\n",
            "Requirement already satisfied: pillow>=6.2.0 in c:\\users\\home\\appdata\\local\\packages\\pythonsoftwarefoundation.python.3.11_qbz5n2kfra8p0\\localcache\\local-packages\\python311\\site-packages (from matplotlib->koreanize-matplotlib) (9.5.0)\n",
            "Requirement already satisfied: pyparsing>=2.3.1 in c:\\users\\home\\appdata\\local\\packages\\pythonsoftwarefoundation.python.3.11_qbz5n2kfra8p0\\localcache\\local-packages\\python311\\site-packages (from matplotlib->koreanize-matplotlib) (3.0.9)\n",
            "Requirement already satisfied: python-dateutil>=2.7 in c:\\users\\home\\appdata\\local\\packages\\pythonsoftwarefoundation.python.3.11_qbz5n2kfra8p0\\localcache\\local-packages\\python311\\site-packages (from matplotlib->koreanize-matplotlib) (2.8.2)\n",
            "Requirement already satisfied: six>=1.5 in c:\\users\\home\\appdata\\local\\packages\\pythonsoftwarefoundation.python.3.11_qbz5n2kfra8p0\\localcache\\local-packages\\python311\\site-packages (from python-dateutil>=2.7->matplotlib->koreanize-matplotlib) (1.16.0)\n"
          ]
        },
        {
          "name": "stderr",
          "output_type": "stream",
          "text": [
            "\n",
            "[notice] A new release of pip is available: 23.1.2 -> 24.0\n",
            "[notice] To update, run: C:\\Users\\HOME\\AppData\\Local\\Microsoft\\WindowsApps\\PythonSoftwareFoundation.Python.3.11_qbz5n2kfra8p0\\python.exe -m pip install --upgrade pip\n"
          ]
        }
      ],
      "source": [
        "!pip install koreanize-matplotlib\n",
        "import koreanize_matplotlib"
      ]
    },
    {
      "cell_type": "code",
      "execution_count": 2,
      "metadata": {
        "id": "enxZip9ovu21"
      },
      "outputs": [],
      "source": [
        "import pandas as pd\n",
        "import numpy as np\n",
        "import random\n",
        "import os\n",
        "import seaborn as sns\n",
        "import matplotlib.pyplot as plt\n",
        "from sklearn.preprocessing import RobustScaler, MinMaxScaler,StandardScaler\n",
        "from imblearn.over_sampling import SMOTE, RandomOverSampler\n",
        "from imblearn.under_sampling import RandomUnderSampler\n",
        "from sklearn.ensemble import VotingClassifier\n",
        "from sklearn.ensemble import GradientBoostingClassifier\n",
        "from xgboost import XGBClassifier\n",
        "from catboost import CatBoostClassifier\n",
        "from sklearn.model_selection import train_test_split\n",
        "from sklearn.preprocessing import LabelEncoder\n",
        "from sklearn.model_selection import GridSearchCV"
      ]
    },
    {
      "cell_type": "markdown",
      "metadata": {
        "id": "gLt0CMbAvu22"
      },
      "source": [
        "#### 시드(seed) 고정  \n",
        "매번 고정된 결과를 얻기 위해서 사용합니다.  \n",
        "시드를 고정하지 않는다면 같은 코드라도 매번 다른 결과가 나올 수 있습니다."
      ]
    },
    {
      "cell_type": "code",
      "execution_count": 3,
      "metadata": {
        "id": "YuMVnpO8vu23"
      },
      "outputs": [],
      "source": [
        "def seed_everything(seed):\n",
        "    random.seed(seed)\n",
        "    os.environ['PYTHONHASHSEED'] = str(seed)\n",
        "    np.random.seed(seed)\n",
        "\n",
        "seed_everything(42) # Seed 고정"
      ]
    },
    {
      "cell_type": "markdown",
      "metadata": {
        "id": "fMssBQVRvu23"
      },
      "source": [
        "#### 데이터 읽어오기 및 데이터 확인"
      ]
    },
    {
      "cell_type": "code",
      "execution_count": 4,
      "metadata": {
        "colab": {
          "base_uri": "https://localhost:8080/",
          "height": 469
        },
        "id": "_9ytZD_Rvu24",
        "outputId": "76c17603-614a-4a6b-9781-b34b3d69ae94"
      },
      "outputs": [
        {
          "data": {
            "text/html": [
              "<div>\n",
              "<style scoped>\n",
              "    .dataframe tbody tr th:only-of-type {\n",
              "        vertical-align: middle;\n",
              "    }\n",
              "\n",
              "    .dataframe tbody tr th {\n",
              "        vertical-align: top;\n",
              "    }\n",
              "\n",
              "    .dataframe thead th {\n",
              "        text-align: right;\n",
              "    }\n",
              "</style>\n",
              "<table border=\"1\" class=\"dataframe\">\n",
              "  <thead>\n",
              "    <tr style=\"text-align: right;\">\n",
              "      <th></th>\n",
              "      <th>ID</th>\n",
              "      <th>월</th>\n",
              "      <th>요일</th>\n",
              "      <th>시간</th>\n",
              "      <th>소관경찰서</th>\n",
              "      <th>소관지역</th>\n",
              "      <th>사건발생거리</th>\n",
              "      <th>강수량(mm)</th>\n",
              "      <th>강설량(mm)</th>\n",
              "      <th>적설량(cm)</th>\n",
              "      <th>풍향</th>\n",
              "      <th>안개</th>\n",
              "      <th>짙은안개</th>\n",
              "      <th>번개</th>\n",
              "      <th>진눈깨비</th>\n",
              "      <th>서리</th>\n",
              "      <th>연기/연무</th>\n",
              "      <th>눈날림</th>\n",
              "      <th>범죄발생지</th>\n",
              "      <th>TARGET</th>\n",
              "    </tr>\n",
              "  </thead>\n",
              "  <tbody>\n",
              "    <tr>\n",
              "      <th>0</th>\n",
              "      <td>TRAIN_00000</td>\n",
              "      <td>9</td>\n",
              "      <td>화요일</td>\n",
              "      <td>10</td>\n",
              "      <td>137</td>\n",
              "      <td>8.0</td>\n",
              "      <td>2.611124</td>\n",
              "      <td>0.000</td>\n",
              "      <td>0.0</td>\n",
              "      <td>0.0</td>\n",
              "      <td>245.0</td>\n",
              "      <td>0.0</td>\n",
              "      <td>0.0</td>\n",
              "      <td>0.0</td>\n",
              "      <td>0.0</td>\n",
              "      <td>0.0</td>\n",
              "      <td>0.0</td>\n",
              "      <td>0.0</td>\n",
              "      <td>차도</td>\n",
              "      <td>2</td>\n",
              "    </tr>\n",
              "    <tr>\n",
              "      <th>1</th>\n",
              "      <td>TRAIN_00001</td>\n",
              "      <td>11</td>\n",
              "      <td>화요일</td>\n",
              "      <td>6</td>\n",
              "      <td>438</td>\n",
              "      <td>13.0</td>\n",
              "      <td>3.209093</td>\n",
              "      <td>0.000</td>\n",
              "      <td>0.0</td>\n",
              "      <td>0.0</td>\n",
              "      <td>200.0</td>\n",
              "      <td>0.0</td>\n",
              "      <td>0.0</td>\n",
              "      <td>0.0</td>\n",
              "      <td>0.0</td>\n",
              "      <td>0.0</td>\n",
              "      <td>0.0</td>\n",
              "      <td>0.0</td>\n",
              "      <td>차도</td>\n",
              "      <td>0</td>\n",
              "    </tr>\n",
              "    <tr>\n",
              "      <th>2</th>\n",
              "      <td>TRAIN_00002</td>\n",
              "      <td>8</td>\n",
              "      <td>일요일</td>\n",
              "      <td>6</td>\n",
              "      <td>1729</td>\n",
              "      <td>47.0</td>\n",
              "      <td>1.619597</td>\n",
              "      <td>0.000</td>\n",
              "      <td>0.0</td>\n",
              "      <td>0.0</td>\n",
              "      <td>40.0</td>\n",
              "      <td>1.0</td>\n",
              "      <td>0.0</td>\n",
              "      <td>0.0</td>\n",
              "      <td>0.0</td>\n",
              "      <td>0.0</td>\n",
              "      <td>1.0</td>\n",
              "      <td>0.0</td>\n",
              "      <td>인도</td>\n",
              "      <td>1</td>\n",
              "    </tr>\n",
              "    <tr>\n",
              "      <th>3</th>\n",
              "      <td>TRAIN_00003</td>\n",
              "      <td>5</td>\n",
              "      <td>월요일</td>\n",
              "      <td>6</td>\n",
              "      <td>2337</td>\n",
              "      <td>53.0</td>\n",
              "      <td>1.921615</td>\n",
              "      <td>11.375</td>\n",
              "      <td>0.0</td>\n",
              "      <td>0.0</td>\n",
              "      <td>225.0</td>\n",
              "      <td>1.0</td>\n",
              "      <td>1.0</td>\n",
              "      <td>0.0</td>\n",
              "      <td>0.0</td>\n",
              "      <td>0.0</td>\n",
              "      <td>0.0</td>\n",
              "      <td>0.0</td>\n",
              "      <td>주거지</td>\n",
              "      <td>1</td>\n",
              "    </tr>\n",
              "    <tr>\n",
              "      <th>4</th>\n",
              "      <td>TRAIN_00004</td>\n",
              "      <td>9</td>\n",
              "      <td>일요일</td>\n",
              "      <td>11</td>\n",
              "      <td>1439</td>\n",
              "      <td>41.0</td>\n",
              "      <td>1.789721</td>\n",
              "      <td>0.000</td>\n",
              "      <td>0.0</td>\n",
              "      <td>0.0</td>\n",
              "      <td>255.0</td>\n",
              "      <td>0.0</td>\n",
              "      <td>0.0</td>\n",
              "      <td>0.0</td>\n",
              "      <td>0.0</td>\n",
              "      <td>0.0</td>\n",
              "      <td>0.0</td>\n",
              "      <td>0.0</td>\n",
              "      <td>주유소</td>\n",
              "      <td>2</td>\n",
              "    </tr>\n",
              "  </tbody>\n",
              "</table>\n",
              "</div>"
            ],
            "text/plain": [
              "            ID   월   요일  시간  소관경찰서  소관지역    사건발생거리  강수량(mm)  강설량(mm)  적설량(cm)   \n",
              "0  TRAIN_00000   9  화요일  10    137   8.0  2.611124    0.000      0.0      0.0  \\\n",
              "1  TRAIN_00001  11  화요일   6    438  13.0  3.209093    0.000      0.0      0.0   \n",
              "2  TRAIN_00002   8  일요일   6   1729  47.0  1.619597    0.000      0.0      0.0   \n",
              "3  TRAIN_00003   5  월요일   6   2337  53.0  1.921615   11.375      0.0      0.0   \n",
              "4  TRAIN_00004   9  일요일  11   1439  41.0  1.789721    0.000      0.0      0.0   \n",
              "\n",
              "      풍향   안개  짙은안개   번개  진눈깨비   서리  연기/연무  눈날림 범죄발생지  TARGET  \n",
              "0  245.0  0.0   0.0  0.0   0.0  0.0    0.0  0.0    차도       2  \n",
              "1  200.0  0.0   0.0  0.0   0.0  0.0    0.0  0.0    차도       0  \n",
              "2   40.0  1.0   0.0  0.0   0.0  0.0    1.0  0.0    인도       1  \n",
              "3  225.0  1.0   1.0  0.0   0.0  0.0    0.0  0.0   주거지       1  \n",
              "4  255.0  0.0   0.0  0.0   0.0  0.0    0.0  0.0   주유소       2  "
            ]
          },
          "execution_count": 4,
          "metadata": {},
          "output_type": "execute_result"
        }
      ],
      "source": [
        "# pd.read_csv() 함수를 사용해서 데이터를 읽어오는 코드입니다.\n",
        "train = pd.read_csv('C:/Users/HOME/Downloads/범죄분류데이터/train.csv')\n",
        "\n",
        "# 데이터를 확인하기 위해 head() 함수를 사용합니다.\n",
        "train.head()"
      ]
    },
    {
      "cell_type": "markdown",
      "metadata": {
        "id": "ibwf-jgYvu24"
      },
      "source": [
        "#### 독립변수(x_train), 종속변수(y_train)로 분리하기  \n"
      ]
    },
    {
      "cell_type": "code",
      "execution_count": 5,
      "metadata": {
        "id": "YWsnSRSGvu25"
      },
      "outputs": [],
      "source": [
        "x_train = train.drop(['ID', 'TARGET'], axis = 1)\n",
        "y_train = train['TARGET']\n"
      ]
    },
    {
      "cell_type": "markdown",
      "metadata": {
        "id": "qhS6D9HNvu25"
      },
      "source": [
        "#### train , validation data 나누기"
      ]
    },
    {
      "cell_type": "code",
      "execution_count": 6,
      "metadata": {
        "id": "ZoypzKrKvu25"
      },
      "outputs": [],
      "source": [
        "X_tr, X_val, Y_tr, Y_val = train_test_split(x_train, y_train, test_size=0.3, random_state=42)"
      ]
    },
    {
      "cell_type": "markdown",
      "metadata": {
        "id": "n-pyhqLXvu26"
      },
      "source": [
        "#### 라벨인코딩(Label Encoding)"
      ]
    },
    {
      "cell_type": "code",
      "execution_count": 7,
      "metadata": {
        "id": "BZ9VBU6Bvu26"
      },
      "outputs": [],
      "source": [
        "\n",
        "ordinal_features = ['요일', '범죄발생지']\n",
        "\n",
        "for feature in ordinal_features:\n",
        "    le = LabelEncoder()\n",
        "\n",
        "    # Fit and transform on the training data\n",
        "    le = le.fit(X_tr[feature])\n",
        "    X_tr[feature] = le.transform(X_tr[feature])\n",
        "\n",
        "    # Transform the test data (Note: Only transform, do not fit again to avoid data leakage)\n",
        "    X_val[feature] = le.transform(X_val[feature])\n",
        "\n"
      ]
    },
    {
      "cell_type": "markdown",
      "metadata": {
        "id": "el5hF5Eovu26"
      },
      "source": [
        "### Voting"
      ]
    },
    {
      "cell_type": "code",
      "execution_count": 8,
      "metadata": {
        "id": "Tg4ztkRUvu26"
      },
      "outputs": [
        {
          "name": "stdout",
          "output_type": "stream",
          "text": [
            "0:\tlearn: 1.0789886\ttotal: 169ms\tremaining: 33.7s\n",
            "100:\tlearn: 0.9606761\ttotal: 1.02s\tremaining: 1s\n",
            "199:\tlearn: 0.9454792\ttotal: 1.78s\tremaining: 0us\n"
          ]
        }
      ],
      "source": [
        "xgb_classifier = XGBClassifier()\n",
        "catboost_classifier = CatBoostClassifier(random_state=42, iterations=200, learning_rate=0.1, verbose=100)\n",
        "gb_classifier = GradientBoostingClassifier()\n",
        "\n",
        "# VotingClassifier 정의\n",
        "voting_classifier = VotingClassifier(\n",
        "    estimators=[('xgb', xgb_classifier), ('catboost', catboost_classifier), ('gb', gb_classifier)],\n",
        "    voting='soft'  # 여러 모델의 예측값을 확률로 변환한 후 평균을 구함\n",
        ")\n",
        "\n",
        "# VotingClassifier 학습\n",
        "voting_classifier.fit(X_tr, Y_tr)\n",
        "\n",
        "# VotingClassifier 예측\n",
        "y_pred = voting_classifier.predict(X_val)"
      ]
    },
    {
      "cell_type": "markdown",
      "metadata": {
        "id": "CxwhGZ8gvu28"
      },
      "source": [
        "#### 예측"
      ]
    },
    {
      "cell_type": "code",
      "execution_count": 9,
      "metadata": {
        "colab": {
          "base_uri": "https://localhost:8080/"
        },
        "id": "8cL7c8SLvu28",
        "outputId": "641a9abc-a36e-477c-d1f8-c6229cea2b88"
      },
      "outputs": [
        {
          "name": "stdout",
          "output_type": "stream",
          "text": [
            "정확도 : 0.5541\n",
            "정말도 : 0.5525\n",
            "Recall: 0.5541\n",
            "F1 Score: 0.5435\n",
            "Confusion Matrix:\n",
            "[[8059 1212 1648]\n",
            " [3042 3315 1285]\n",
            " [3096 1007 2658]]\n"
          ]
        },
        {
          "data": {
            "image/png": "[encoded data removed]",
            "text/plain": [
              "<Figure size 500x500 with 2 Axes>"
            ]
          },
          "metadata": {},
          "output_type": "display_data"
        }
      ],
      "source": [
        "from sklearn.metrics import accuracy_score, precision_score, recall_score, f1_score, confusion_matrix, classification_report\n",
        "\n",
        "acc=accuracy_score(Y_val,y_pred)\n",
        "print(f'정확도 : {acc:.4f}')\n",
        "\n",
        "# 정밀도 (precision)\n",
        "precision=precision_score(Y_val,y_pred, average='weighted')\n",
        "print(f'정말도 : {precision:.4f}')\n",
        "\n",
        "recall = recall_score(Y_val, y_pred, average='weighted')\n",
        "print(f'Recall: {recall:.4f}')\n",
        "\n",
        "# F1 점수 (F1 Score)\n",
        "f1 = f1_score(Y_val, y_pred, average='weighted')\n",
        "print(f'F1 Score: {f1:.4f}')\n",
        "\n",
        "# 혼동 행렬 (Confusion Matrix)\n",
        "conf_matrix = confusion_matrix(Y_val, y_pred)\n",
        "print('Confusion Matrix:')\n",
        "print(conf_matrix)\n",
        "\n",
        "\n",
        "plt.figure(figsize=(5,5))\n",
        "sns.heatmap(conf_matrix, annot=True, fmt='d', cmap='Blues')\n",
        "plt.title('Confusion Matrix')\n",
        "plt.xlabel('Predicted Label')\n",
        "plt.ylabel('True Label')\n",
        "plt.show()"
      ]
    },
    {
      "cell_type": "markdown",
      "metadata": {},
      "source": [
        "#### Sampling"
      ]
    },
    {
      "cell_type": "markdown",
      "metadata": {},
      "source": [
        "##### 오버샘플링"
      ]
    },
    {
      "cell_type": "code",
      "execution_count": 10,
      "metadata": {},
      "outputs": [],
      "source": [
        "ros=RandomUnderSampler(random_state=42)\n",
        "x_tr_over,y_tr_over=ros.fit_resample(X_tr,Y_tr)\n"
      ]
    },
    {
      "cell_type": "code",
      "execution_count": 11,
      "metadata": {},
      "outputs": [
        {
          "name": "stdout",
          "output_type": "stream",
          "text": [
            "0:\tlearn: 1.0829128\ttotal: 10.5ms\tremaining: 2.09s\n",
            "100:\tlearn: 0.9774182\ttotal: 722ms\tremaining: 708ms\n",
            "199:\tlearn: 0.9594894\ttotal: 1.35s\tremaining: 0us\n"
          ]
        }
      ],
      "source": [
        "xgb_classifier = XGBClassifier()\n",
        "catboost_classifier = CatBoostClassifier(random_state=42, iterations=200, learning_rate=0.1, verbose=100)\n",
        "gb_classifier = GradientBoostingClassifier()\n",
        "\n",
        "# VotingClassifier 정의\n",
        "voting_classifier = VotingClassifier(\n",
        "    estimators=[('xgb', xgb_classifier), ('catboost', catboost_classifier), ('gb', gb_classifier)],\n",
        "    voting='soft'  # 여러 모델의 예측값을 확률로 변환한 후 평균을 구함\n",
        ")\n",
        "\n",
        "# VotingClassifier 학습\n",
        "voting_classifier.fit(x_tr_over,y_tr_over)\n",
        "\n",
        "# VotingClassifier 예측\n",
        "y_pred = voting_classifier.predict(X_val)"
      ]
    },
    {
      "cell_type": "code",
      "execution_count": 12,
      "metadata": {
        "id": "dJKMW0Z-7SBq"
      },
      "outputs": [
        {
          "name": "stdout",
          "output_type": "stream",
          "text": [
            "정확도 : 0.5491\n",
            "정말도 : 0.5475\n",
            "Recall: 0.5491\n",
            "F1 Score: 0.5469\n",
            "Confusion Matrix:\n",
            "[[7128 1759 2032]\n",
            " [2295 3755 1592]\n",
            " [2615 1124 3022]]\n"
          ]
        },
        {
          "data": {
            "image/png": "[encoded data removed]",
            "text/plain": [
              "<Figure size 500x500 with 2 Axes>"
            ]
          },
          "metadata": {},
          "output_type": "display_data"
        }
      ],
      "source": [
        "from sklearn.metrics import accuracy_score, precision_score, recall_score, f1_score, confusion_matrix, classification_report\n",
        "\n",
        "acc=accuracy_score(Y_val,y_pred)\n",
        "print(f'정확도 : {acc:.4f}')\n",
        "\n",
        "# 정밀도 (precision)\n",
        "precision=precision_score(Y_val,y_pred, average='weighted')\n",
        "print(f'정말도 : {precision:.4f}')\n",
        "\n",
        "recall = recall_score(Y_val, y_pred, average='weighted')\n",
        "print(f'Recall: {recall:.4f}')\n",
        "\n",
        "# F1 점수 (F1 Score)\n",
        "f1 = f1_score(Y_val, y_pred, average='weighted')\n",
        "print(f'F1 Score: {f1:.4f}')\n",
        "\n",
        "# 혼동 행렬 (Confusion Matrix)\n",
        "conf_matrix = confusion_matrix(Y_val, y_pred)\n",
        "print('Confusion Matrix:')\n",
        "print(conf_matrix)\n",
        "\n",
        "\n",
        "plt.figure(figsize=(5,5))\n",
        "sns.heatmap(conf_matrix, annot=True, fmt='d', cmap='Blues')\n",
        "plt.title('Confusion Matrix')\n",
        "plt.xlabel('Predicted Label')\n",
        "plt.ylabel('True Label')\n",
        "plt.show()"
      ]
    },
    {
      "cell_type": "code",
      "execution_count": 15,
      "metadata": {},
      "outputs": [],
      "source": [
        "# 샘플링 과정이 없던 모델보다 성능이 좋은 것 확인\n",
        "# 가장 분류가 안되었던 class 3이 이전 모델보다 훨씬 많이 분류되었음"
      ]
    },
    {
      "cell_type": "markdown",
      "metadata": {},
      "source": [
        "##### SMOTE"
      ]
    },
    {
      "cell_type": "code",
      "execution_count": 13,
      "metadata": {},
      "outputs": [],
      "source": [
        "smote=SMOTE(random_state=42)\n",
        "x_tr_smote,y_tr_smote=smote.fit_resample(X_tr,Y_tr)"
      ]
    },
    {
      "cell_type": "code",
      "execution_count": 14,
      "metadata": {},
      "outputs": [
        {
          "name": "stdout",
          "output_type": "stream",
          "text": [
            "0:\tlearn: 1.0821486\ttotal: 26.8ms\tremaining: 5.34s\n",
            "100:\tlearn: 0.9541266\ttotal: 1.13s\tremaining: 1.11s\n",
            "199:\tlearn: 0.9308170\ttotal: 2.22s\tremaining: 0us\n"
          ]
        }
      ],
      "source": [
        "xgb_classifier = XGBClassifier()\n",
        "catboost_classifier = CatBoostClassifier(random_state=42, iterations=200, learning_rate=0.1, verbose=100)\n",
        "gb_classifier = GradientBoostingClassifier()\n",
        "\n",
        "# VotingClassifier 정의\n",
        "voting_classifier = VotingClassifier(\n",
        "    estimators=[('xgb', xgb_classifier), ('catboost', catboost_classifier), ('gb', gb_classifier)],\n",
        "    voting='soft'  # 여러 모델의 예측값을 확률로 변환한 후 평균을 구함\n",
        ")\n",
        "\n",
        "# VotingClassifier 학습\n",
        "voting_classifier.fit(x_tr_smote,y_tr_smote)\n",
        "\n",
        "# VotingClassifier 예측\n",
        "y_pred = voting_classifier.predict(X_val)"
      ]
    },
    {
      "cell_type": "code",
      "execution_count": 15,
      "metadata": {},
      "outputs": [
        {
          "name": "stdout",
          "output_type": "stream",
          "text": [
            "정확도 : 0.5499\n",
            "정말도 : 0.5474\n",
            "Recall: 0.5499\n",
            "F1 Score: 0.5445\n",
            "Confusion Matrix:\n",
            "[[7530 1479 1910]\n",
            " [2628 3533 1481]\n",
            " [2816 1083 2862]]\n"
          ]
        },
        {
          "data": {
            "image/png": "[encoded data removed]",
            "text/plain": [
              "<Figure size 500x500 with 2 Axes>"
            ]
          },
          "metadata": {},
          "output_type": "display_data"
        }
      ],
      "source": [
        "from sklearn.metrics import accuracy_score, precision_score, recall_score, f1_score, confusion_matrix, classification_report\n",
        "\n",
        "acc=accuracy_score(Y_val,y_pred)\n",
        "print(f'정확도 : {acc:.4f}')\n",
        "\n",
        "# 정밀도 (precision)\n",
        "precision=precision_score(Y_val,y_pred, average='weighted')\n",
        "print(f'정말도 : {precision:.4f}')\n",
        "\n",
        "recall = recall_score(Y_val, y_pred, average='weighted')\n",
        "print(f'Recall: {recall:.4f}')\n",
        "\n",
        "# F1 점수 (F1 Score)\n",
        "f1 = f1_score(Y_val, y_pred, average='weighted')\n",
        "print(f'F1 Score: {f1:.4f}')\n",
        "\n",
        "# 혼동 행렬 (Confusion Matrix)\n",
        "conf_matrix = confusion_matrix(Y_val, y_pred)\n",
        "print('Confusion Matrix:')\n",
        "print(conf_matrix)\n",
        "\n",
        "\n",
        "plt.figure(figsize=(5,5))\n",
        "sns.heatmap(conf_matrix, annot=True, fmt='d', cmap='Blues')\n",
        "plt.title('Confusion Matrix')\n",
        "plt.xlabel('Predicted Label')\n",
        "plt.ylabel('True Label')\n",
        "plt.show()"
      ]
    },
    {
      "cell_type": "code",
      "execution_count": 19,
      "metadata": {},
      "outputs": [
        {
          "data": {
            "image/png": "[encoded data removed]",
            "text/plain": [
              "<Figure size 1000x600 with 1 Axes>"
            ]
          },
          "metadata": {},
          "output_type": "display_data"
        }
      ],
      "source": [
        "\n",
        "classes = ['Class 0', 'Class 1', 'Class 2']\n",
        "class_labels = np.unique(Y_val)\n",
        "\n",
        "# 실제값과 예측값에 대한 카운트 계산\n",
        "actual_counts = np.bincount(Y_val)\n",
        "predicted_counts = np.bincount(y_pred)\n",
        "\n",
        "# 클래스별 실제값과 예측값의 비교를 시각화\n",
        "plt.figure(figsize=(10, 6))\n",
        "plt.bar(np.arange(len(classes)) - 0.2, actual_counts, width=0.4, align='center', label='Actual', color='blue', alpha=0.5)\n",
        "plt.bar(np.arange(len(classes)) + 0.2, predicted_counts, width=0.4, align='center', label='Predicted', color='orange', alpha=0.5)\n",
        "plt.xticks(np.arange(len(classes)), classes)\n",
        "plt.xlabel('Class')\n",
        "plt.ylabel('Count')\n",
        "plt.title('Comparison of Actual and Predicted Class Distribution')\n",
        "plt.legend()\n",
        "plt.grid(True)\n",
        "plt.show()\n"
      ]
    },
    {
      "cell_type": "code",
      "execution_count": null,
      "metadata": {},
      "outputs": [],
      "source": []
    }
  ],
  "metadata": {
    "colab": {
      "provenance": []
    },
    "kernelspec": {
      "display_name": "taerang",
      "language": "python",
      "name": "python3"
    },
    "language_info": {
      "codemirror_mode": {
        "name": "ipython",
        "version": 3
      },
      "file_extension": ".py",
      "mimetype": "text/x-python",
      "name": "python",
      "nbconvert_exporter": "python",
      "pygments_lexer": "ipython3",
      "version": "3.11.8"
    }
  },
  "nbformat": 4,
  "nbformat_minor": 0
}
