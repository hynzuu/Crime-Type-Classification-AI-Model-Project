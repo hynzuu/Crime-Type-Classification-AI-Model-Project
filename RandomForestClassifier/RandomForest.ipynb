{
 "cells": [
  {
   "cell_type": "code",
   "execution_count": 25,
   "metadata": {},
   "outputs": [
    {
     "name": "stdout",
     "output_type": "stream",
     "text": [
      "Requirement already satisfied: koreanize-matplotlib in c:\\users\\home\\appdata\\local\\packages\\pythonsoftwarefoundation.python.3.11_qbz5n2kfra8p0\\localcache\\local-packages\\python311\\site-packages (0.1.1)"
     ]
    },
    {
     "name": "stderr",
     "output_type": "stream",
     "text": [
      "\n",
      "[notice] A new release of pip is available: 23.1.2 -> 23.3.2\n",
      "[notice] To update, run: C:\\Users\\HOME\\AppData\\Local\\Microsoft\\WindowsApps\\PythonSoftwareFoundation.Python.3.11_qbz5n2kfra8p0\\python.exe -m pip install --upgrade pip\n"
     ]
    },
    {
     "name": "stdout",
     "output_type": "stream",
     "text": [
      "\n",
      "Requirement already satisfied: matplotlib in c:\\users\\home\\appdata\\local\\packages\\pythonsoftwarefoundation.python.3.11_qbz5n2kfra8p0\\localcache\\local-packages\\python311\\site-packages (from koreanize-matplotlib) (3.7.1)\n",
      "Requirement already satisfied: contourpy>=1.0.1 in c:\\users\\home\\appdata\\local\\packages\\pythonsoftwarefoundation.python.3.11_qbz5n2kfra8p0\\localcache\\local-packages\\python311\\site-packages (from matplotlib->koreanize-matplotlib) (1.0.7)\n",
      "Requirement already satisfied: cycler>=0.10 in c:\\users\\home\\appdata\\local\\packages\\pythonsoftwarefoundation.python.3.11_qbz5n2kfra8p0\\localcache\\local-packages\\python311\\site-packages (from matplotlib->koreanize-matplotlib) (0.11.0)\n",
      "Requirement already satisfied: fonttools>=4.22.0 in c:\\users\\home\\appdata\\local\\packages\\pythonsoftwarefoundation.python.3.11_qbz5n2kfra8p0\\localcache\\local-packages\\python311\\site-packages (from matplotlib->koreanize-matplotlib) (4.39.3)\n",
      "Requirement already satisfied: kiwisolver>=1.0.1 in c:\\users\\home\\appdata\\local\\packages\\pythonsoftwarefoundation.python.3.11_qbz5n2kfra8p0\\localcache\\local-packages\\python311\\site-packages (from matplotlib->koreanize-matplotlib) (1.4.4)\n",
      "Requirement already satisfied: numpy>=1.20 in c:\\users\\home\\appdata\\local\\packages\\pythonsoftwarefoundation.python.3.11_qbz5n2kfra8p0\\localcache\\local-packages\\python311\\site-packages (from matplotlib->koreanize-matplotlib) (1.23.5)\n",
      "Requirement already satisfied: packaging>=20.0 in c:\\users\\home\\appdata\\local\\packages\\pythonsoftwarefoundation.python.3.11_qbz5n2kfra8p0\\localcache\\local-packages\\python311\\site-packages (from matplotlib->koreanize-matplotlib) (23.1)\n",
      "Requirement already satisfied: pillow>=6.2.0 in c:\\users\\home\\appdata\\local\\packages\\pythonsoftwarefoundation.python.3.11_qbz5n2kfra8p0\\localcache\\local-packages\\python311\\site-packages (from matplotlib->koreanize-matplotlib) (9.5.0)\n",
      "Requirement already satisfied: pyparsing>=2.3.1 in c:\\users\\home\\appdata\\local\\packages\\pythonsoftwarefoundation.python.3.11_qbz5n2kfra8p0\\localcache\\local-packages\\python311\\site-packages (from matplotlib->koreanize-matplotlib) (3.0.9)\n",
      "Requirement already satisfied: python-dateutil>=2.7 in c:\\users\\home\\appdata\\local\\packages\\pythonsoftwarefoundation.python.3.11_qbz5n2kfra8p0\\localcache\\local-packages\\python311\\site-packages (from matplotlib->koreanize-matplotlib) (2.8.2)\n",
      "Requirement already satisfied: six>=1.5 in c:\\users\\home\\appdata\\local\\packages\\pythonsoftwarefoundation.python.3.11_qbz5n2kfra8p0\\localcache\\local-packages\\python311\\site-packages (from python-dateutil>=2.7->matplotlib->koreanize-matplotlib) (1.16.0)\n"
     ]
    }
   ],
   "source": [
    "!pip install koreanize-matplotlib\n",
    "import koreanize_matplotlib"
   ]
  },
  {
   "cell_type": "code",
   "execution_count": 26,
   "metadata": {},
   "outputs": [],
   "source": [
    "import pandas as pd\n",
    "import numpy as np\n",
    "import random\n",
    "import os\n",
    "\n",
    "from sklearn.preprocessing import LabelEncoder,StandardScaler,RobustScaler,MinMaxScaler\n",
    "from sklearn.ensemble import RandomForestClassifier\n",
    "from sklearn.model_selection import train_test_split\n"
   ]
  },
  {
   "attachments": {},
   "cell_type": "markdown",
   "metadata": {},
   "source": [
    "#### 시드(seed) 고정  "
   ]
  },
  {
   "cell_type": "code",
   "execution_count": 27,
   "metadata": {},
   "outputs": [],
   "source": [
    "def seed_everything(seed):\n",
    "    random.seed(seed)\n",
    "    os.environ['PYTHONHASHSEED'] = str(seed)\n",
    "    np.random.seed(seed)\n",
    "\n",
    "seed_everything(42) # Seed 고정"
   ]
  },
  {
   "attachments": {},
   "cell_type": "markdown",
   "metadata": {},
   "source": [
    "#### 데이터 읽어오기 및 데이터 확인"
   ]
  },
  {
   "cell_type": "code",
   "execution_count": 28,
   "metadata": {},
   "outputs": [
    {
     "data": {
      "text/html": [
       "<div>\n",
       "<style scoped>\n",
       "    .dataframe tbody tr th:only-of-type {\n",
       "        vertical-align: middle;\n",
       "    }\n",
       "\n",
       "    .dataframe tbody tr th {\n",
       "        vertical-align: top;\n",
       "    }\n",
       "\n",
       "    .dataframe thead th {\n",
       "        text-align: right;\n",
       "    }\n",
       "</style>\n",
       "<table border=\"1\" class=\"dataframe\">\n",
       "  <thead>\n",
       "    <tr style=\"text-align: right;\">\n",
       "      <th></th>\n",
       "      <th>ID</th>\n",
       "      <th>월</th>\n",
       "      <th>요일</th>\n",
       "      <th>시간</th>\n",
       "      <th>소관경찰서</th>\n",
       "      <th>소관지역</th>\n",
       "      <th>사건발생거리</th>\n",
       "      <th>강수량(mm)</th>\n",
       "      <th>강설량(mm)</th>\n",
       "      <th>적설량(cm)</th>\n",
       "      <th>풍향</th>\n",
       "      <th>안개</th>\n",
       "      <th>짙은안개</th>\n",
       "      <th>번개</th>\n",
       "      <th>진눈깨비</th>\n",
       "      <th>서리</th>\n",
       "      <th>연기/연무</th>\n",
       "      <th>눈날림</th>\n",
       "      <th>범죄발생지</th>\n",
       "      <th>TARGET</th>\n",
       "    </tr>\n",
       "  </thead>\n",
       "  <tbody>\n",
       "    <tr>\n",
       "      <th>0</th>\n",
       "      <td>TRAIN_00000</td>\n",
       "      <td>9</td>\n",
       "      <td>화요일</td>\n",
       "      <td>10</td>\n",
       "      <td>137</td>\n",
       "      <td>8.0</td>\n",
       "      <td>2.611124</td>\n",
       "      <td>0.000</td>\n",
       "      <td>0.0</td>\n",
       "      <td>0.0</td>\n",
       "      <td>245.0</td>\n",
       "      <td>0.0</td>\n",
       "      <td>0.0</td>\n",
       "      <td>0.0</td>\n",
       "      <td>0.0</td>\n",
       "      <td>0.0</td>\n",
       "      <td>0.0</td>\n",
       "      <td>0.0</td>\n",
       "      <td>차도</td>\n",
       "      <td>2</td>\n",
       "    </tr>\n",
       "    <tr>\n",
       "      <th>1</th>\n",
       "      <td>TRAIN_00001</td>\n",
       "      <td>11</td>\n",
       "      <td>화요일</td>\n",
       "      <td>6</td>\n",
       "      <td>438</td>\n",
       "      <td>13.0</td>\n",
       "      <td>3.209093</td>\n",
       "      <td>0.000</td>\n",
       "      <td>0.0</td>\n",
       "      <td>0.0</td>\n",
       "      <td>200.0</td>\n",
       "      <td>0.0</td>\n",
       "      <td>0.0</td>\n",
       "      <td>0.0</td>\n",
       "      <td>0.0</td>\n",
       "      <td>0.0</td>\n",
       "      <td>0.0</td>\n",
       "      <td>0.0</td>\n",
       "      <td>차도</td>\n",
       "      <td>0</td>\n",
       "    </tr>\n",
       "    <tr>\n",
       "      <th>2</th>\n",
       "      <td>TRAIN_00002</td>\n",
       "      <td>8</td>\n",
       "      <td>일요일</td>\n",
       "      <td>6</td>\n",
       "      <td>1729</td>\n",
       "      <td>47.0</td>\n",
       "      <td>1.619597</td>\n",
       "      <td>0.000</td>\n",
       "      <td>0.0</td>\n",
       "      <td>0.0</td>\n",
       "      <td>40.0</td>\n",
       "      <td>1.0</td>\n",
       "      <td>0.0</td>\n",
       "      <td>0.0</td>\n",
       "      <td>0.0</td>\n",
       "      <td>0.0</td>\n",
       "      <td>1.0</td>\n",
       "      <td>0.0</td>\n",
       "      <td>인도</td>\n",
       "      <td>1</td>\n",
       "    </tr>\n",
       "    <tr>\n",
       "      <th>3</th>\n",
       "      <td>TRAIN_00003</td>\n",
       "      <td>5</td>\n",
       "      <td>월요일</td>\n",
       "      <td>6</td>\n",
       "      <td>2337</td>\n",
       "      <td>53.0</td>\n",
       "      <td>1.921615</td>\n",
       "      <td>11.375</td>\n",
       "      <td>0.0</td>\n",
       "      <td>0.0</td>\n",
       "      <td>225.0</td>\n",
       "      <td>1.0</td>\n",
       "      <td>1.0</td>\n",
       "      <td>0.0</td>\n",
       "      <td>0.0</td>\n",
       "      <td>0.0</td>\n",
       "      <td>0.0</td>\n",
       "      <td>0.0</td>\n",
       "      <td>주거지</td>\n",
       "      <td>1</td>\n",
       "    </tr>\n",
       "    <tr>\n",
       "      <th>4</th>\n",
       "      <td>TRAIN_00004</td>\n",
       "      <td>9</td>\n",
       "      <td>일요일</td>\n",
       "      <td>11</td>\n",
       "      <td>1439</td>\n",
       "      <td>41.0</td>\n",
       "      <td>1.789721</td>\n",
       "      <td>0.000</td>\n",
       "      <td>0.0</td>\n",
       "      <td>0.0</td>\n",
       "      <td>255.0</td>\n",
       "      <td>0.0</td>\n",
       "      <td>0.0</td>\n",
       "      <td>0.0</td>\n",
       "      <td>0.0</td>\n",
       "      <td>0.0</td>\n",
       "      <td>0.0</td>\n",
       "      <td>0.0</td>\n",
       "      <td>주유소</td>\n",
       "      <td>2</td>\n",
       "    </tr>\n",
       "  </tbody>\n",
       "</table>\n",
       "</div>"
      ],
      "text/plain": [
       "            ID   월   요일  시간  소관경찰서  소관지역    사건발생거리  강수량(mm)  강설량(mm)  적설량(cm)   \n",
       "0  TRAIN_00000   9  화요일  10    137   8.0  2.611124    0.000      0.0      0.0  \\\n",
       "1  TRAIN_00001  11  화요일   6    438  13.0  3.209093    0.000      0.0      0.0   \n",
       "2  TRAIN_00002   8  일요일   6   1729  47.0  1.619597    0.000      0.0      0.0   \n",
       "3  TRAIN_00003   5  월요일   6   2337  53.0  1.921615   11.375      0.0      0.0   \n",
       "4  TRAIN_00004   9  일요일  11   1439  41.0  1.789721    0.000      0.0      0.0   \n",
       "\n",
       "      풍향   안개  짙은안개   번개  진눈깨비   서리  연기/연무  눈날림 범죄발생지  TARGET  \n",
       "0  245.0  0.0   0.0  0.0   0.0  0.0    0.0  0.0    차도       2  \n",
       "1  200.0  0.0   0.0  0.0   0.0  0.0    0.0  0.0    차도       0  \n",
       "2   40.0  1.0   0.0  0.0   0.0  0.0    1.0  0.0    인도       1  \n",
       "3  225.0  1.0   1.0  0.0   0.0  0.0    0.0  0.0   주거지       1  \n",
       "4  255.0  0.0   0.0  0.0   0.0  0.0    0.0  0.0   주유소       2  "
      ]
     },
     "execution_count": 28,
     "metadata": {},
     "output_type": "execute_result"
    }
   ],
   "source": [
    "train = pd.read_csv('C:/Users/HOME/Downloads/범죄분류데이터/train.csv')\n",
    "\n",
    "train.head()"
   ]
  },
  {
   "attachments": {},
   "cell_type": "markdown",
   "metadata": {},
   "source": [
    "#### 독립변수(x_train), 종속변수(y_train)로 분리하기  \n"
   ]
  },
  {
   "cell_type": "code",
   "execution_count": 29,
   "metadata": {},
   "outputs": [],
   "source": [
    "x_train = train.drop(['ID', 'TARGET'], axis = 1)\n",
    "y_train = train['TARGET']\n"
   ]
  },
  {
   "cell_type": "code",
   "execution_count": 30,
   "metadata": {},
   "outputs": [
    {
     "data": {
      "text/html": [
       "<div>\n",
       "<style scoped>\n",
       "    .dataframe tbody tr th:only-of-type {\n",
       "        vertical-align: middle;\n",
       "    }\n",
       "\n",
       "    .dataframe tbody tr th {\n",
       "        vertical-align: top;\n",
       "    }\n",
       "\n",
       "    .dataframe thead th {\n",
       "        text-align: right;\n",
       "    }\n",
       "</style>\n",
       "<table border=\"1\" class=\"dataframe\">\n",
       "  <thead>\n",
       "    <tr style=\"text-align: right;\">\n",
       "      <th></th>\n",
       "      <th>월</th>\n",
       "      <th>요일</th>\n",
       "      <th>시간</th>\n",
       "      <th>소관경찰서</th>\n",
       "      <th>소관지역</th>\n",
       "      <th>사건발생거리</th>\n",
       "      <th>강수량(mm)</th>\n",
       "      <th>강설량(mm)</th>\n",
       "      <th>적설량(cm)</th>\n",
       "      <th>풍향</th>\n",
       "      <th>안개</th>\n",
       "      <th>짙은안개</th>\n",
       "      <th>번개</th>\n",
       "      <th>진눈깨비</th>\n",
       "      <th>서리</th>\n",
       "      <th>연기/연무</th>\n",
       "      <th>눈날림</th>\n",
       "      <th>범죄발생지</th>\n",
       "    </tr>\n",
       "  </thead>\n",
       "  <tbody>\n",
       "    <tr>\n",
       "      <th>0</th>\n",
       "      <td>9</td>\n",
       "      <td>화요일</td>\n",
       "      <td>10</td>\n",
       "      <td>137</td>\n",
       "      <td>8.0</td>\n",
       "      <td>2.611124</td>\n",
       "      <td>0.000</td>\n",
       "      <td>0.0</td>\n",
       "      <td>0.0</td>\n",
       "      <td>245.0</td>\n",
       "      <td>0.0</td>\n",
       "      <td>0.0</td>\n",
       "      <td>0.0</td>\n",
       "      <td>0.0</td>\n",
       "      <td>0.0</td>\n",
       "      <td>0.0</td>\n",
       "      <td>0.0</td>\n",
       "      <td>차도</td>\n",
       "    </tr>\n",
       "    <tr>\n",
       "      <th>1</th>\n",
       "      <td>11</td>\n",
       "      <td>화요일</td>\n",
       "      <td>6</td>\n",
       "      <td>438</td>\n",
       "      <td>13.0</td>\n",
       "      <td>3.209093</td>\n",
       "      <td>0.000</td>\n",
       "      <td>0.0</td>\n",
       "      <td>0.0</td>\n",
       "      <td>200.0</td>\n",
       "      <td>0.0</td>\n",
       "      <td>0.0</td>\n",
       "      <td>0.0</td>\n",
       "      <td>0.0</td>\n",
       "      <td>0.0</td>\n",
       "      <td>0.0</td>\n",
       "      <td>0.0</td>\n",
       "      <td>차도</td>\n",
       "    </tr>\n",
       "    <tr>\n",
       "      <th>2</th>\n",
       "      <td>8</td>\n",
       "      <td>일요일</td>\n",
       "      <td>6</td>\n",
       "      <td>1729</td>\n",
       "      <td>47.0</td>\n",
       "      <td>1.619597</td>\n",
       "      <td>0.000</td>\n",
       "      <td>0.0</td>\n",
       "      <td>0.0</td>\n",
       "      <td>40.0</td>\n",
       "      <td>1.0</td>\n",
       "      <td>0.0</td>\n",
       "      <td>0.0</td>\n",
       "      <td>0.0</td>\n",
       "      <td>0.0</td>\n",
       "      <td>1.0</td>\n",
       "      <td>0.0</td>\n",
       "      <td>인도</td>\n",
       "    </tr>\n",
       "    <tr>\n",
       "      <th>3</th>\n",
       "      <td>5</td>\n",
       "      <td>월요일</td>\n",
       "      <td>6</td>\n",
       "      <td>2337</td>\n",
       "      <td>53.0</td>\n",
       "      <td>1.921615</td>\n",
       "      <td>11.375</td>\n",
       "      <td>0.0</td>\n",
       "      <td>0.0</td>\n",
       "      <td>225.0</td>\n",
       "      <td>1.0</td>\n",
       "      <td>1.0</td>\n",
       "      <td>0.0</td>\n",
       "      <td>0.0</td>\n",
       "      <td>0.0</td>\n",
       "      <td>0.0</td>\n",
       "      <td>0.0</td>\n",
       "      <td>주거지</td>\n",
       "    </tr>\n",
       "    <tr>\n",
       "      <th>4</th>\n",
       "      <td>9</td>\n",
       "      <td>일요일</td>\n",
       "      <td>11</td>\n",
       "      <td>1439</td>\n",
       "      <td>41.0</td>\n",
       "      <td>1.789721</td>\n",
       "      <td>0.000</td>\n",
       "      <td>0.0</td>\n",
       "      <td>0.0</td>\n",
       "      <td>255.0</td>\n",
       "      <td>0.0</td>\n",
       "      <td>0.0</td>\n",
       "      <td>0.0</td>\n",
       "      <td>0.0</td>\n",
       "      <td>0.0</td>\n",
       "      <td>0.0</td>\n",
       "      <td>0.0</td>\n",
       "      <td>주유소</td>\n",
       "    </tr>\n",
       "  </tbody>\n",
       "</table>\n",
       "</div>"
      ],
      "text/plain": [
       "    월   요일  시간  소관경찰서  소관지역    사건발생거리  강수량(mm)  강설량(mm)  적설량(cm)     풍향   안개   \n",
       "0   9  화요일  10    137   8.0  2.611124    0.000      0.0      0.0  245.0  0.0  \\\n",
       "1  11  화요일   6    438  13.0  3.209093    0.000      0.0      0.0  200.0  0.0   \n",
       "2   8  일요일   6   1729  47.0  1.619597    0.000      0.0      0.0   40.0  1.0   \n",
       "3   5  월요일   6   2337  53.0  1.921615   11.375      0.0      0.0  225.0  1.0   \n",
       "4   9  일요일  11   1439  41.0  1.789721    0.000      0.0      0.0  255.0  0.0   \n",
       "\n",
       "   짙은안개   번개  진눈깨비   서리  연기/연무  눈날림 범죄발생지  \n",
       "0   0.0  0.0   0.0  0.0    0.0  0.0    차도  \n",
       "1   0.0  0.0   0.0  0.0    0.0  0.0    차도  \n",
       "2   0.0  0.0   0.0  0.0    1.0  0.0    인도  \n",
       "3   1.0  0.0   0.0  0.0    0.0  0.0   주거지  \n",
       "4   0.0  0.0   0.0  0.0    0.0  0.0   주유소  "
      ]
     },
     "execution_count": 30,
     "metadata": {},
     "output_type": "execute_result"
    }
   ],
   "source": [
    "x_train.head()"
   ]
  },
  {
   "cell_type": "markdown",
   "metadata": {},
   "source": [
    "#### train , validation data 나누기"
   ]
  },
  {
   "cell_type": "code",
   "execution_count": 31,
   "metadata": {},
   "outputs": [],
   "source": [
    "X_tr, X_val, Y_tr, Y_val = train_test_split(x_train, y_train, test_size=0.2, random_state=42)"
   ]
  },
  {
   "attachments": {},
   "cell_type": "markdown",
   "metadata": {},
   "source": [
    "#### 라벨인코딩(Label Encoding) "
   ]
  },
  {
   "cell_type": "code",
   "execution_count": 32,
   "metadata": {},
   "outputs": [],
   "source": [
    "\n",
    "ordinal_features = ['요일', '범죄발생지']\n",
    "\n",
    "for feature in ordinal_features:\n",
    "    le = LabelEncoder()\n",
    "    \n",
    "    # Fit and transform on the training data\n",
    "    le = le.fit(X_tr[feature])\n",
    "    X_tr[feature] = le.transform(X_tr[feature])\n",
    "\n",
    "    # Transform the test data (Note: Only transform, do not fit again to avoid data leakage)\n",
    "    X_val[feature] = le.transform(X_val[feature])\n",
    "\n"
   ]
  },
  {
   "cell_type": "code",
   "execution_count": 33,
   "metadata": {},
   "outputs": [
    {
     "data": {
      "text/html": [
       "<div>\n",
       "<style scoped>\n",
       "    .dataframe tbody tr th:only-of-type {\n",
       "        vertical-align: middle;\n",
       "    }\n",
       "\n",
       "    .dataframe tbody tr th {\n",
       "        vertical-align: top;\n",
       "    }\n",
       "\n",
       "    .dataframe thead th {\n",
       "        text-align: right;\n",
       "    }\n",
       "</style>\n",
       "<table border=\"1\" class=\"dataframe\">\n",
       "  <thead>\n",
       "    <tr style=\"text-align: right;\">\n",
       "      <th></th>\n",
       "      <th>월</th>\n",
       "      <th>요일</th>\n",
       "      <th>시간</th>\n",
       "      <th>소관경찰서</th>\n",
       "      <th>소관지역</th>\n",
       "      <th>사건발생거리</th>\n",
       "      <th>강수량(mm)</th>\n",
       "      <th>강설량(mm)</th>\n",
       "      <th>적설량(cm)</th>\n",
       "      <th>풍향</th>\n",
       "      <th>안개</th>\n",
       "      <th>짙은안개</th>\n",
       "      <th>번개</th>\n",
       "      <th>진눈깨비</th>\n",
       "      <th>서리</th>\n",
       "      <th>연기/연무</th>\n",
       "      <th>눈날림</th>\n",
       "      <th>범죄발생지</th>\n",
       "    </tr>\n",
       "  </thead>\n",
       "  <tbody>\n",
       "    <tr>\n",
       "      <th>45887</th>\n",
       "      <td>9</td>\n",
       "      <td>2</td>\n",
       "      <td>12</td>\n",
       "      <td>1140</td>\n",
       "      <td>31.0</td>\n",
       "      <td>1.792490</td>\n",
       "      <td>0.0</td>\n",
       "      <td>0.0</td>\n",
       "      <td>0.0</td>\n",
       "      <td>90.0</td>\n",
       "      <td>0.0</td>\n",
       "      <td>0.0</td>\n",
       "      <td>0.0</td>\n",
       "      <td>0.0</td>\n",
       "      <td>0.0</td>\n",
       "      <td>1.0</td>\n",
       "      <td>0.0</td>\n",
       "      <td>10</td>\n",
       "    </tr>\n",
       "    <tr>\n",
       "      <th>64986</th>\n",
       "      <td>3</td>\n",
       "      <td>5</td>\n",
       "      <td>6</td>\n",
       "      <td>738</td>\n",
       "      <td>27.0</td>\n",
       "      <td>0.771010</td>\n",
       "      <td>0.0</td>\n",
       "      <td>0.0</td>\n",
       "      <td>0.0</td>\n",
       "      <td>180.0</td>\n",
       "      <td>0.0</td>\n",
       "      <td>0.0</td>\n",
       "      <td>0.0</td>\n",
       "      <td>0.0</td>\n",
       "      <td>0.0</td>\n",
       "      <td>0.0</td>\n",
       "      <td>0.0</td>\n",
       "      <td>7</td>\n",
       "    </tr>\n",
       "    <tr>\n",
       "      <th>12545</th>\n",
       "      <td>5</td>\n",
       "      <td>1</td>\n",
       "      <td>3</td>\n",
       "      <td>1749</td>\n",
       "      <td>46.0</td>\n",
       "      <td>1.962962</td>\n",
       "      <td>20.0</td>\n",
       "      <td>0.0</td>\n",
       "      <td>0.0</td>\n",
       "      <td>20.0</td>\n",
       "      <td>0.0</td>\n",
       "      <td>0.0</td>\n",
       "      <td>0.0</td>\n",
       "      <td>0.0</td>\n",
       "      <td>0.0</td>\n",
       "      <td>0.0</td>\n",
       "      <td>0.0</td>\n",
       "      <td>3</td>\n",
       "    </tr>\n",
       "    <tr>\n",
       "      <th>19141</th>\n",
       "      <td>6</td>\n",
       "      <td>0</td>\n",
       "      <td>10</td>\n",
       "      <td>1749</td>\n",
       "      <td>46.0</td>\n",
       "      <td>2.356086</td>\n",
       "      <td>0.0</td>\n",
       "      <td>0.0</td>\n",
       "      <td>0.0</td>\n",
       "      <td>250.0</td>\n",
       "      <td>0.0</td>\n",
       "      <td>0.0</td>\n",
       "      <td>0.0</td>\n",
       "      <td>0.0</td>\n",
       "      <td>0.0</td>\n",
       "      <td>0.0</td>\n",
       "      <td>0.0</td>\n",
       "      <td>9</td>\n",
       "    </tr>\n",
       "    <tr>\n",
       "      <th>70002</th>\n",
       "      <td>3</td>\n",
       "      <td>5</td>\n",
       "      <td>7</td>\n",
       "      <td>737</td>\n",
       "      <td>27.0</td>\n",
       "      <td>0.882831</td>\n",
       "      <td>0.0</td>\n",
       "      <td>0.0</td>\n",
       "      <td>0.0</td>\n",
       "      <td>285.0</td>\n",
       "      <td>0.0</td>\n",
       "      <td>0.0</td>\n",
       "      <td>0.0</td>\n",
       "      <td>0.0</td>\n",
       "      <td>0.0</td>\n",
       "      <td>0.0</td>\n",
       "      <td>0.0</td>\n",
       "      <td>6</td>\n",
       "    </tr>\n",
       "  </tbody>\n",
       "</table>\n",
       "</div>"
      ],
      "text/plain": [
       "       월  요일  시간  소관경찰서  소관지역    사건발생거리  강수량(mm)  강설량(mm)  적설량(cm)     풍향   \n",
       "45887  9   2  12   1140  31.0  1.792490      0.0      0.0      0.0   90.0  \\\n",
       "64986  3   5   6    738  27.0  0.771010      0.0      0.0      0.0  180.0   \n",
       "12545  5   1   3   1749  46.0  1.962962     20.0      0.0      0.0   20.0   \n",
       "19141  6   0  10   1749  46.0  2.356086      0.0      0.0      0.0  250.0   \n",
       "70002  3   5   7    737  27.0  0.882831      0.0      0.0      0.0  285.0   \n",
       "\n",
       "        안개  짙은안개   번개  진눈깨비   서리  연기/연무  눈날림  범죄발생지  \n",
       "45887  0.0   0.0  0.0   0.0  0.0    1.0  0.0     10  \n",
       "64986  0.0   0.0  0.0   0.0  0.0    0.0  0.0      7  \n",
       "12545  0.0   0.0  0.0   0.0  0.0    0.0  0.0      3  \n",
       "19141  0.0   0.0  0.0   0.0  0.0    0.0  0.0      9  \n",
       "70002  0.0   0.0  0.0   0.0  0.0    0.0  0.0      6  "
      ]
     },
     "execution_count": 33,
     "metadata": {},
     "output_type": "execute_result"
    }
   ],
   "source": [
    "X_tr.head()"
   ]
  },
  {
   "attachments": {},
   "cell_type": "markdown",
   "metadata": {},
   "source": [
    "#### 모델 정의"
   ]
  },
  {
   "cell_type": "code",
   "execution_count": 34,
   "metadata": {},
   "outputs": [],
   "source": [
    "# 모델 인자에 random_state를 넣음으로써 시드고정의 효과를 얻을 수 있습니다.\n",
    "rf_model = RandomForestClassifier(random_state=42)"
   ]
  },
  {
   "attachments": {},
   "cell_type": "markdown",
   "metadata": {},
   "source": [
    "#### 모델 학습"
   ]
  },
  {
   "cell_type": "code",
   "execution_count": 35,
   "metadata": {},
   "outputs": [
    {
     "data": {
      "text/html": [
       "<style>#sk-container-id-1 {color: black;background-color: white;}#sk-container-id-1 pre{padding: 0;}#sk-container-id-1 div.sk-toggleable {background-color: white;}#sk-container-id-1 label.sk-toggleable__label {cursor: pointer;display: block;width: 100%;margin-bottom: 0;padding: 0.3em;box-sizing: border-box;text-align: center;}#sk-container-id-1 label.sk-toggleable__label-arrow:before {content: \"▸\";float: left;margin-right: 0.25em;color: #696969;}#sk-container-id-1 label.sk-toggleable__label-arrow:hover:before {color: black;}#sk-container-id-1 div.sk-estimator:hover label.sk-toggleable__label-arrow:before {color: black;}#sk-container-id-1 div.sk-toggleable__content {max-height: 0;max-width: 0;overflow: hidden;text-align: left;background-color: #f0f8ff;}#sk-container-id-1 div.sk-toggleable__content pre {margin: 0.2em;color: black;border-radius: 0.25em;background-color: #f0f8ff;}#sk-container-id-1 input.sk-toggleable__control:checked~div.sk-toggleable__content {max-height: 200px;max-width: 100%;overflow: auto;}#sk-container-id-1 input.sk-toggleable__control:checked~label.sk-toggleable__label-arrow:before {content: \"▾\";}#sk-container-id-1 div.sk-estimator input.sk-toggleable__control:checked~label.sk-toggleable__label {background-color: #d4ebff;}#sk-container-id-1 div.sk-label input.sk-toggleable__control:checked~label.sk-toggleable__label {background-color: #d4ebff;}#sk-container-id-1 input.sk-hidden--visually {border: 0;clip: rect(1px 1px 1px 1px);clip: rect(1px, 1px, 1px, 1px);height: 1px;margin: -1px;overflow: hidden;padding: 0;position: absolute;width: 1px;}#sk-container-id-1 div.sk-estimator {font-family: monospace;background-color: #f0f8ff;border: 1px dotted black;border-radius: 0.25em;box-sizing: border-box;margin-bottom: 0.5em;}#sk-container-id-1 div.sk-estimator:hover {background-color: #d4ebff;}#sk-container-id-1 div.sk-parallel-item::after {content: \"\";width: 100%;border-bottom: 1px solid gray;flex-grow: 1;}#sk-container-id-1 div.sk-label:hover label.sk-toggleable__label {background-color: #d4ebff;}#sk-container-id-1 div.sk-serial::before {content: \"\";position: absolute;border-left: 1px solid gray;box-sizing: border-box;top: 0;bottom: 0;left: 50%;z-index: 0;}#sk-container-id-1 div.sk-serial {display: flex;flex-direction: column;align-items: center;background-color: white;padding-right: 0.2em;padding-left: 0.2em;position: relative;}#sk-container-id-1 div.sk-item {position: relative;z-index: 1;}#sk-container-id-1 div.sk-parallel {display: flex;align-items: stretch;justify-content: center;background-color: white;position: relative;}#sk-container-id-1 div.sk-item::before, #sk-container-id-1 div.sk-parallel-item::before {content: \"\";position: absolute;border-left: 1px solid gray;box-sizing: border-box;top: 0;bottom: 0;left: 50%;z-index: -1;}#sk-container-id-1 div.sk-parallel-item {display: flex;flex-direction: column;z-index: 1;position: relative;background-color: white;}#sk-container-id-1 div.sk-parallel-item:first-child::after {align-self: flex-end;width: 50%;}#sk-container-id-1 div.sk-parallel-item:last-child::after {align-self: flex-start;width: 50%;}#sk-container-id-1 div.sk-parallel-item:only-child::after {width: 0;}#sk-container-id-1 div.sk-dashed-wrapped {border: 1px dashed gray;margin: 0 0.4em 0.5em 0.4em;box-sizing: border-box;padding-bottom: 0.4em;background-color: white;}#sk-container-id-1 div.sk-label label {font-family: monospace;font-weight: bold;display: inline-block;line-height: 1.2em;}#sk-container-id-1 div.sk-label-container {text-align: center;}#sk-container-id-1 div.sk-container {/* jupyter's `normalize.less` sets `[hidden] { display: none; }` but bootstrap.min.css set `[hidden] { display: none !important; }` so we also need the `!important` here to be able to override the default hidden behavior on the sphinx rendered scikit-learn.org. See: https://github.com/scikit-learn/scikit-learn/issues/21755 */display: inline-block !important;position: relative;}#sk-container-id-1 div.sk-text-repr-fallback {display: none;}</style><div id=\"sk-container-id-1\" class=\"sk-top-container\"><div class=\"sk-text-repr-fallback\"><pre>RandomForestClassifier(random_state=42)</pre><b>In a Jupyter environment, please rerun this cell to show the HTML representation or trust the notebook. <br />On GitHub, the HTML representation is unable to render, please try loading this page with nbviewer.org.</b></div><div class=\"sk-container\" hidden><div class=\"sk-item\"><div class=\"sk-estimator sk-toggleable\"><input class=\"sk-toggleable__control sk-hidden--visually\" id=\"sk-estimator-id-1\" type=\"checkbox\" checked><label for=\"sk-estimator-id-1\" class=\"sk-toggleable__label sk-toggleable__label-arrow\">RandomForestClassifier</label><div class=\"sk-toggleable__content\"><pre>RandomForestClassifier(random_state=42)</pre></div></div></div></div></div>"
      ],
      "text/plain": [
       "RandomForestClassifier(random_state=42)"
      ]
     },
     "execution_count": 35,
     "metadata": {},
     "output_type": "execute_result"
    }
   ],
   "source": [
    "rf_model.fit(X_tr, Y_tr)"
   ]
  },
  {
   "attachments": {},
   "cell_type": "markdown",
   "metadata": {},
   "source": [
    "#### 예측"
   ]
  },
  {
   "cell_type": "code",
   "execution_count": 36,
   "metadata": {},
   "outputs": [],
   "source": [
    "pred = rf_model.predict(X_val)"
   ]
  },
  {
   "cell_type": "code",
   "execution_count": 37,
   "metadata": {},
   "outputs": [
    {
     "name": "stdout",
     "output_type": "stream",
     "text": [
      "정확도 : 0.5295\n",
      "정말도 : 0.5215\n",
      "Recall: 0.5295\n",
      "F1 Score: 0.5190\n",
      "Confusion Matrix:\n",
      "[[5104 1095 1092]\n",
      " [1977 2342  816]\n",
      " [2086  877 1493]]\n"
     ]
    }
   ],
   "source": [
    "from sklearn.metrics import accuracy_score, precision_score, recall_score, f1_score, confusion_matrix, classification_report\n",
    "\n",
    "acc=accuracy_score(Y_val,pred)\n",
    "print(f'정확도 : {acc:.4f}')\n",
    "\n",
    "# 정밀도 (precision)\n",
    "precision=precision_score(Y_val,pred, average='weighted')\n",
    "print(f'정말도 : {precision:.4f}')\n",
    "\n",
    "recall = recall_score(Y_val, pred, average='weighted')  # 다중 클래스인 경우 average 설정\n",
    "print(f'Recall: {recall:.4f}')\n",
    "\n",
    "# F1 점수 (F1 Score)\n",
    "f1 = f1_score(Y_val, pred, average='weighted')  # 다중 클래스인 경우 average 설정\n",
    "print(f'F1 Score: {f1:.4f}')\n",
    "\n",
    "# 혼동 행렬 (Confusion Matrix)\n",
    "conf_matrix = confusion_matrix(Y_val, pred)\n",
    "print('Confusion Matrix:')\n",
    "print(conf_matrix)"
   ]
  },
  {
   "cell_type": "markdown",
   "metadata": {},
   "source": [
    "#### model - 하이퍼파라미터 설정 "
   ]
  },
  {
   "cell_type": "code",
   "execution_count": 10,
   "metadata": {},
   "outputs": [],
   "source": [
    "rf_model = RandomForestClassifier(random_state = 42,max_depth=10, min_samples_leaf=4, n_estimators=100)\n",
    "rf_model.fit(X_tr, Y_tr)\n",
    "pred = rf_model.predict(X_val)"
   ]
  },
  {
   "cell_type": "code",
   "execution_count": 38,
   "metadata": {},
   "outputs": [],
   "source": [
    "import time"
   ]
  },
  {
   "cell_type": "code",
   "execution_count": 39,
   "metadata": {},
   "outputs": [
    {
     "name": "stdout",
     "output_type": "stream",
     "text": [
      "모델 학습 시간: 7.5217 초\n"
     ]
    }
   ],
   "source": [
    "# 최적의 하이퍼파라미터: {'max_depth': 10, 'min_samples_leaf': 4, 'n_estimators': 100}\n",
    "\n",
    "start_time = time.time()\n",
    "\n",
    "best_rf_model = RandomForestClassifier(oob_score=True,random_state = 42,max_depth=10, min_samples_leaf= 4, n_estimators=100)\n",
    "best_rf_model.fit(X_tr, Y_tr)\n",
    "\n",
    "end_time = time.time()\n",
    "training_time = end_time - start_time\n",
    "\n",
    "print(f\"모델 학습 시간: {training_time:.4f} 초\")\n",
    "\n",
    "# 예측\n",
    "best_pred = best_rf_model.predict(X_val)"
   ]
  },
  {
   "cell_type": "code",
   "execution_count": 41,
   "metadata": {},
   "outputs": [
    {
     "name": "stdout",
     "output_type": "stream",
     "text": [
      "정확도 : 0.5483\n",
      "정말도 : 0.5437\n",
      "Recall: 0.5483\n",
      "F1 Score: 0.5374\n",
      "Confusion Matrix:\n",
      "[[5335  883 1073]\n",
      " [2052 2214  869]\n",
      " [1981  768 1707]]\n"
     ]
    }
   ],
   "source": [
    "from sklearn.metrics import accuracy_score, precision_score, recall_score, f1_score, confusion_matrix, classification_report\n",
    "\n",
    "acc=accuracy_score(Y_val,best_pred)\n",
    "print(f'정확도 : {acc:.4f}')\n",
    "\n",
    "# 정밀도 (precision)\n",
    "precision=precision_score(Y_val,best_pred, average='weighted')\n",
    "print(f'정말도 : {precision:.4f}')\n",
    "\n",
    "recall = recall_score(Y_val, best_pred, average='weighted')  # 다중 클래스인 경우 average 설정\n",
    "print(f'Recall: {recall:.4f}')\n",
    "\n",
    "# F1 점수 (F1 Score)\n",
    "f1 = f1_score(Y_val, best_pred, average='weighted')  # 다중 클래스인 경우 average 설정\n",
    "print(f'F1 Score: {f1:.4f}')\n",
    "\n",
    "# 혼동 행렬 (Confusion Matrix)\n",
    "conf_matrix = confusion_matrix(Y_val, best_pred)\n",
    "print('Confusion Matrix:')\n",
    "print(conf_matrix)"
   ]
  },
  {
   "cell_type": "markdown",
   "metadata": {},
   "source": [
    "#### OOB score"
   ]
  },
  {
   "cell_type": "code",
   "execution_count": 42,
   "metadata": {},
   "outputs": [
    {
     "name": "stdout",
     "output_type": "stream",
     "text": [
      "OOB 점수: 0.5145429773117707\n"
     ]
    }
   ],
   "source": [
    "# 모델 초기화 및 OOB 점수 계산\n",
    "rf_model_oob = RandomForestClassifier(random_state=42,oob_score=True)\n",
    "rf_model_oob.fit(X_tr,Y_tr)\n",
    "\n",
    "# OOB 점수 출력\n",
    "print(\"OOB 점수:\", rf_model_oob.oob_score_)"
   ]
  },
  {
   "cell_type": "code",
   "execution_count": 43,
   "metadata": {},
   "outputs": [
    {
     "name": "stdout",
     "output_type": "stream",
     "text": [
      "OOB 점수: 0.5418962146792252\n"
     ]
    }
   ],
   "source": [
    "#best_rf_model\n",
    "\n",
    "print(\"OOB 점수:\", best_rf_model.oob_score_)"
   ]
  },
  {
   "cell_type": "markdown",
   "metadata": {},
   "source": [
    "#### ExtraTreeClassifier"
   ]
  },
  {
   "cell_type": "code",
   "execution_count": 17,
   "metadata": {},
   "outputs": [],
   "source": [
    "from sklearn.ensemble import ExtraTreesClassifier\n",
    "\n",
    "# ExtraTrees 모델 초기화\n",
    "extra_trees_model = ExtraTreesClassifier(random_state=42)\n",
    "extra_trees_model.fit(X_tr,Y_tr)\n",
    "\n",
    "# 예측\n",
    "pred_extra_trees = extra_trees_model.predict(X_val)"
   ]
  },
  {
   "cell_type": "code",
   "execution_count": 18,
   "metadata": {},
   "outputs": [
    {
     "name": "stdout",
     "output_type": "stream",
     "text": [
      "정확도 : 0.5116\n",
      "정말도 : 0.5031\n",
      "Recall: 0.5116\n",
      "F1 Score: 0.5031\n",
      "Confusion Matrix:\n",
      "[[4829 1252 1210]\n",
      " [1920 2360  855]\n",
      " [2082  926 1448]]\n"
     ]
    }
   ],
   "source": [
    "\n",
    "acc=accuracy_score(Y_val,pred_extra_trees)\n",
    "print(f'정확도 : {acc:.4f}')\n",
    "\n",
    "# 정밀도 (precision)\n",
    "precision=precision_score(Y_val,pred_extra_trees, average='weighted')\n",
    "print(f'정말도 : {precision:.4f}')\n",
    "\n",
    "recall = recall_score(Y_val, pred_extra_trees, average='weighted')  # 다중 클래스인 경우 average 설정\n",
    "print(f'Recall: {recall:.4f}')\n",
    "\n",
    "# F1 점수 (F1 Score)\n",
    "f1 = f1_score(Y_val, pred_extra_trees, average='weighted')  # 다중 클래스인 경우 average 설정\n",
    "print(f'F1 Score: {f1:.4f}')\n",
    "\n",
    "# 혼동 행렬 (Confusion Matrix)\n",
    "conf_matrix = confusion_matrix(Y_val, pred_extra_trees)\n",
    "print('Confusion Matrix:')\n",
    "print(conf_matrix)"
   ]
  },
  {
   "cell_type": "code",
   "execution_count": 19,
   "metadata": {},
   "outputs": [],
   "source": [
    "# 랜덤 포레스트의 피처 중요도\n",
    "feature_importance_rf = rf_model.feature_importances_\n",
    "\n",
    "# ExtraTrees의 피처 중요도\n",
    "feature_importance = rf_model.feature_importances_\n"
   ]
  },
  {
   "cell_type": "code",
   "execution_count": 20,
   "metadata": {},
   "outputs": [
    {
     "data": {
      "text/plain": [
       "array([0.02446027, 0.02190498, 0.03062087, 0.15565624, 0.12638903,\n",
       "       0.05997983, 0.0247622 , 0.00647105, 0.01005404, 0.03002716,\n",
       "       0.00434064, 0.00101187, 0.00352061, 0.00134165, 0.00096702,\n",
       "       0.00435751, 0.00070571, 0.49342933])"
      ]
     },
     "execution_count": 20,
     "metadata": {},
     "output_type": "execute_result"
    }
   ],
   "source": [
    "feature_importance"
   ]
  },
  {
   "cell_type": "code",
   "execution_count": 21,
   "metadata": {},
   "outputs": [],
   "source": [
    "import matplotlib.pyplot as plt"
   ]
  },
  {
   "cell_type": "code",
   "execution_count": 22,
   "metadata": {},
   "outputs": [
    {
     "data": {
      "image/png": "[encoded data removed]",
      "text/plain": [
       "<Figure size 1000x600 with 1 Axes>"
      ]
     },
     "metadata": {},
     "output_type": "display_data"
    }
   ],
   "source": [
    "feature_importance_rf = rf_model.feature_importances_\n",
    "\n",
    "# ExtraTrees 피처 중요도\n",
    "feature_importance_extra_trees = extra_trees_model.feature_importances_\n",
    "\n",
    "# 피처 이름 가져오기\n",
    "feature_names = X_tr.columns\n",
    "\n",
    "\n",
    "feature_importance_data = {'Feature': feature_names, 'RandomForest': feature_importance_rf, 'ExtraTrees': feature_importance_extra_trees}\n",
    "feature_importance_df = pd.DataFrame(feature_importance_data)\n",
    "\n",
    "# 피처 중요도를 내림차순으로 정렬\n",
    "feature_importance_df = feature_importance_df.sort_values(by=['RandomForest'], ascending=False)\n",
    "\n",
    "\n",
    "plt.figure(figsize=(10, 6))\n",
    "plt.bar(range(len(feature_importance_df)), feature_importance_df['RandomForest'], align='center', label='RandomForest')\n",
    "plt.xticks(range(len(feature_importance_df)), feature_importance_df['Feature'], rotation=45)\n",
    "plt.xlabel('Feature')\n",
    "plt.ylabel('Importance')\n",
    "plt.title('Feature Importance - RandomForest')\n",
    "plt.legend()\n",
    "plt.tight_layout()\n",
    "plt.show()"
   ]
  },
  {
   "cell_type": "markdown",
   "metadata": {},
   "source": [
    "#### RFE "
   ]
  },
  {
   "cell_type": "code",
   "execution_count": 44,
   "metadata": {},
   "outputs": [],
   "source": [
    "from sklearn.feature_selection import RFE"
   ]
  },
  {
   "cell_type": "code",
   "execution_count": 24,
   "metadata": {},
   "outputs": [
    {
     "name": "stdout",
     "output_type": "stream",
     "text": [
      "n_features_to_select=1, Accuracy: 0.53\n",
      "n_features_to_select=2, Accuracy: 0.56\n",
      "n_features_to_select=3, Accuracy: 0.56\n",
      "n_features_to_select=4, Accuracy: 0.56\n",
      "n_features_to_select=5, Accuracy: 0.56\n",
      "n_features_to_select=6, Accuracy: 0.55\n",
      "n_features_to_select=7, Accuracy: 0.55\n",
      "n_features_to_select=8, Accuracy: 0.55\n",
      "n_features_to_select=9, Accuracy: 0.55\n",
      "n_features_to_select=10, Accuracy: 0.55\n",
      "n_features_to_select=11, Accuracy: 0.55\n",
      "n_features_to_select=12, Accuracy: 0.55\n",
      "n_features_to_select=13, Accuracy: 0.55\n",
      "n_features_to_select=14, Accuracy: 0.55\n",
      "n_features_to_select=15, Accuracy: 0.55\n",
      "n_features_to_select=16, Accuracy: 0.55\n"
     ]
    }
   ],
   "source": [
    "for n_features in range(1, 17):\n",
    "    # RFE를 사용하여 특성 선택\n",
    "    rfe = RFE(estimator=best_rf_model, n_features_to_select=n_features)\n",
    "    X_train_rfe = rfe.fit_transform(X_tr, Y_tr)\n",
    "    X_test_rfe = rfe.transform(X_val)\n",
    "\n",
    "    # 모델 훈련 및 예측\n",
    "    rf_model.fit(X_train_rfe, Y_tr)\n",
    "    y_pred_rf = rf_model.predict(X_test_rfe)\n",
    "\n",
    "    # 정확도 출력\n",
    "    accuracy_rf = accuracy_score(Y_val, y_pred_rf)\n",
    "    print(f'n_features_to_select={n_features}, Accuracy: {accuracy_rf:.2f}')"
   ]
  },
  {
   "cell_type": "code",
   "execution_count": 46,
   "metadata": {},
   "outputs": [
    {
     "name": "stdout",
     "output_type": "stream",
     "text": [
      "n_features_to_select=2, Accuracy: 0.553, Training Time: 3.881 seconds, Selected Features: Index(['소관경찰서', '범죄발생지'], dtype='object')\n",
      "n_features_to_select=3, Accuracy: 0.550, Training Time: 4.190 seconds, Selected Features: Index(['소관경찰서', '소관지역', '범죄발생지'], dtype='object')\n",
      "n_features_to_select=4, Accuracy: 0.483, Training Time: 17.047 seconds, Selected Features: Index(['소관경찰서', '소관지역', '사건발생거리', '범죄발생지'], dtype='object')\n",
      "n_features_to_select=5, Accuracy: 0.498, Training Time: 17.328 seconds, Selected Features: Index(['소관경찰서', '소관지역', '사건발생거리', '풍향', '범죄발생지'], dtype='object')\n"
     ]
    }
   ],
   "source": [
    "\n",
    "for n_features in range(2, 6):\n",
    "    # RFE를 사용하여 특성 선택\n",
    "    rfe = RFE(estimator=best_rf_model, n_features_to_select=n_features)\n",
    "    X_train_rfe = rfe.fit_transform(X_tr, Y_tr)\n",
    "    X_test_rfe = rfe.transform(X_val)\n",
    "\n",
    "    # Measure training time\n",
    "    start_time = time.time()\n",
    "\n",
    "    # 모델 훈련 및 예측\n",
    "    rf_model.fit(X_train_rfe, Y_tr)\n",
    "    y_pred_rf = rf_model.predict(X_test_rfe)\n",
    "\n",
    "    end_time = time.time()\n",
    "    training_time = end_time - start_time\n",
    "\n",
    "    # Get selected features\n",
    "    selected_features = X_tr.columns[rfe.support_]\n",
    "\n",
    "    # 정확도 출력, 학습 시간 출력, 선택된 특성 출력\n",
    "    accuracy_rf = accuracy_score(Y_val, y_pred_rf)\n",
    "    print(f'n_features_to_select={n_features}, Accuracy: {accuracy_rf:.3f}, Training Time: {training_time:.3f} seconds, Selected Features: {selected_features}')"
   ]
  },
  {
   "cell_type": "code",
   "execution_count": 47,
   "metadata": {},
   "outputs": [
    {
     "name": "stdout",
     "output_type": "stream",
     "text": [
      "n_features_to_select=1, Accuracy: 0.530, Training Time: 1.401 seconds, Selected Features: Index(['범죄발생지'], dtype='object')\n",
      "n_features_to_select=2, Accuracy: 0.553, Training Time: 3.839 seconds, Selected Features: Index(['소관경찰서', '범죄발생지'], dtype='object')\n",
      "n_features_to_select=3, Accuracy: 0.550, Training Time: 3.997 seconds, Selected Features: Index(['소관경찰서', '소관지역', '범죄발생지'], dtype='object')\n",
      "n_features_to_select=4, Accuracy: 0.483, Training Time: 16.844 seconds, Selected Features: Index(['소관경찰서', '소관지역', '사건발생거리', '범죄발생지'], dtype='object')\n",
      "n_features_to_select=5, Accuracy: 0.498, Training Time: 17.481 seconds, Selected Features: Index(['소관경찰서', '소관지역', '사건발생거리', '풍향', '범죄발생지'], dtype='object')\n",
      "n_features_to_select=6, Accuracy: 0.515, Training Time: 18.248 seconds, Selected Features: Index(['소관경찰서', '소관지역', '사건발생거리', '강수량(mm)', '풍향', '범죄발생지'], dtype='object')\n",
      "n_features_to_select=7, Accuracy: 0.526, Training Time: 16.655 seconds, Selected Features: Index(['시간', '소관경찰서', '소관지역', '사건발생거리', '강수량(mm)', '풍향', '범죄발생지'], dtype='object')\n",
      "n_features_to_select=8, Accuracy: 0.533, Training Time: 16.051 seconds, Selected Features: Index(['월', '시간', '소관경찰서', '소관지역', '사건발생거리', '강수량(mm)', '풍향', '범죄발생지'], dtype='object')\n",
      "n_features_to_select=9, Accuracy: 0.536, Training Time: 20.866 seconds, Selected Features: Index(['월', '요일', '시간', '소관경찰서', '소관지역', '사건발생거리', '강수량(mm)', '풍향', '범죄발생지'], dtype='object')\n",
      "n_features_to_select=10, Accuracy: 0.536, Training Time: 17.282 seconds, Selected Features: Index(['월', '요일', '시간', '소관경찰서', '소관지역', '사건발생거리', '강수량(mm)', '적설량(cm)', '풍향',\n",
      "       '범죄발생지'],\n",
      "      dtype='object')\n",
      "n_features_to_select=11, Accuracy: 0.533, Training Time: 17.154 seconds, Selected Features: Index(['월', '요일', '시간', '소관경찰서', '소관지역', '사건발생거리', '강수량(mm)', '강설량(mm)',\n",
      "       '적설량(cm)', '풍향', '범죄발생지'],\n",
      "      dtype='object')\n",
      "n_features_to_select=12, Accuracy: 0.531, Training Time: 16.518 seconds, Selected Features: Index(['월', '요일', '시간', '소관경찰서', '소관지역', '사건발생거리', '강수량(mm)', '강설량(mm)',\n",
      "       '적설량(cm)', '풍향', '연기/연무', '범죄발생지'],\n",
      "      dtype='object')\n",
      "n_features_to_select=13, Accuracy: 0.528, Training Time: 15.412 seconds, Selected Features: Index(['월', '요일', '시간', '소관경찰서', '소관지역', '사건발생거리', '강수량(mm)', '강설량(mm)',\n",
      "       '적설량(cm)', '풍향', '안개', '연기/연무', '범죄발생지'],\n",
      "      dtype='object')\n",
      "n_features_to_select=14, Accuracy: 0.527, Training Time: 14.527 seconds, Selected Features: Index(['월', '요일', '시간', '소관경찰서', '소관지역', '사건발생거리', '강수량(mm)', '강설량(mm)',\n",
      "       '적설량(cm)', '풍향', '안개', '번개', '연기/연무', '범죄발생지'],\n",
      "      dtype='object')\n"
     ]
    }
   ],
   "source": [
    "\n",
    "for n_features in range(1, 15):\n",
    "    # RFE를 사용하여 특성 선택\n",
    "    rfe = RFE(estimator=best_rf_model, n_features_to_select=n_features)\n",
    "    X_train_rfe = rfe.fit_transform(X_tr, Y_tr)\n",
    "    X_test_rfe = rfe.transform(X_val)\n",
    "\n",
    "    # Measure training time\n",
    "    start_time = time.time()\n",
    "\n",
    "    # 모델 훈련 및 예측\n",
    "    rf_model.fit(X_train_rfe, Y_tr)\n",
    "    y_pred_rf = rf_model.predict(X_test_rfe)\n",
    "\n",
    "    end_time = time.time()\n",
    "    training_time = end_time - start_time\n",
    "\n",
    "    # Get selected features\n",
    "    selected_features = X_tr.columns[rfe.support_]\n",
    "\n",
    "    # 정확도 출력, 학습 시간 출력, 선택된 특성 출력\n",
    "    accuracy_rf = accuracy_score(Y_val, y_pred_rf)\n",
    "    print(f'n_features_to_select={n_features}, Accuracy: {accuracy_rf:.3f}, Training Time: {training_time:.3f} seconds, Selected Features: {selected_features}')"
   ]
  },
  {
   "cell_type": "code",
   "execution_count": null,
   "metadata": {},
   "outputs": [],
   "source": []
  }
 ],
 "metadata": {
  "kernelspec": {
   "display_name": "taerang",
   "language": "python",
   "name": "python3"
  },
  "language_info": {
   "codemirror_mode": {
    "name": "ipython",
    "version": 3
   },
   "file_extension": ".py",
   "mimetype": "text/x-python",
   "name": "python",
   "nbconvert_exporter": "python",
   "pygments_lexer": "ipython3",
   "version": "3.11.7"
  },
  "orig_nbformat": 4
 },
 "nbformat": 4,
 "nbformat_minor": 2
}
