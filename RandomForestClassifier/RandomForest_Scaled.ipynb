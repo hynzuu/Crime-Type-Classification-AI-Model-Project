{
  "cells": [
    {
      "cell_type": "code",
      "execution_count": 6,
      "metadata": {
        "colab": {
          "base_uri": "https://localhost:8080/"
        },
        "id": "z_zqXY38BHVq",
        "outputId": "bd699d94-d733-420c-ab94-e4671c525019"
      },
      "outputs": [
        {
          "name": "stderr",
          "output_type": "stream",
          "text": [
            "\n",
            "[notice] A new release of pip is available: 23.1.2 -> 24.0\n",
            "[notice] To update, run: C:\\Users\\HOME\\AppData\\Local\\Microsoft\\WindowsApps\\PythonSoftwareFoundation.Python.3.11_qbz5n2kfra8p0\\python.exe -m pip install --upgrade pip\n"
          ]
        },
        {
          "name": "stdout",
          "output_type": "stream",
          "text": [
            "Requirement already satisfied: koreanize-matplotlib in c:\\users\\home\\appdata\\local\\packages\\pythonsoftwarefoundation.python.3.11_qbz5n2kfra8p0\\localcache\\local-packages\\python311\\site-packages (0.1.1)\n",
            "Requirement already satisfied: matplotlib in c:\\users\\home\\appdata\\local\\packages\\pythonsoftwarefoundation.python.3.11_qbz5n2kfra8p0\\localcache\\local-packages\\python311\\site-packages (from koreanize-matplotlib) (3.7.1)\n",
            "Requirement already satisfied: contourpy>=1.0.1 in c:\\users\\home\\appdata\\local\\packages\\pythonsoftwarefoundation.python.3.11_qbz5n2kfra8p0\\localcache\\local-packages\\python311\\site-packages (from matplotlib->koreanize-matplotlib) (1.0.7)\n",
            "Requirement already satisfied: cycler>=0.10 in c:\\users\\home\\appdata\\local\\packages\\pythonsoftwarefoundation.python.3.11_qbz5n2kfra8p0\\localcache\\local-packages\\python311\\site-packages (from matplotlib->koreanize-matplotlib) (0.11.0)\n",
            "Requirement already satisfied: fonttools>=4.22.0 in c:\\users\\home\\appdata\\local\\packages\\pythonsoftwarefoundation.python.3.11_qbz5n2kfra8p0\\localcache\\local-packages\\python311\\site-packages (from matplotlib->koreanize-matplotlib) (4.39.3)\n",
            "Requirement already satisfied: kiwisolver>=1.0.1 in c:\\users\\home\\appdata\\local\\packages\\pythonsoftwarefoundation.python.3.11_qbz5n2kfra8p0\\localcache\\local-packages\\python311\\site-packages (from matplotlib->koreanize-matplotlib) (1.4.4)\n",
            "Requirement already satisfied: numpy>=1.20 in c:\\users\\home\\appdata\\local\\packages\\pythonsoftwarefoundation.python.3.11_qbz5n2kfra8p0\\localcache\\local-packages\\python311\\site-packages (from matplotlib->koreanize-matplotlib) (1.23.5)\n",
            "Requirement already satisfied: packaging>=20.0 in c:\\users\\home\\appdata\\local\\packages\\pythonsoftwarefoundation.python.3.11_qbz5n2kfra8p0\\localcache\\local-packages\\python311\\site-packages (from matplotlib->koreanize-matplotlib) (23.1)\n",
            "Requirement already satisfied: pillow>=6.2.0 in c:\\users\\home\\appdata\\local\\packages\\pythonsoftwarefoundation.python.3.11_qbz5n2kfra8p0\\localcache\\local-packages\\python311\\site-packages (from matplotlib->koreanize-matplotlib) (9.5.0)\n",
            "Requirement already satisfied: pyparsing>=2.3.1 in c:\\users\\home\\appdata\\local\\packages\\pythonsoftwarefoundation.python.3.11_qbz5n2kfra8p0\\localcache\\local-packages\\python311\\site-packages (from matplotlib->koreanize-matplotlib) (3.0.9)\n",
            "Requirement already satisfied: python-dateutil>=2.7 in c:\\users\\home\\appdata\\local\\packages\\pythonsoftwarefoundation.python.3.11_qbz5n2kfra8p0\\localcache\\local-packages\\python311\\site-packages (from matplotlib->koreanize-matplotlib) (2.8.2)\n",
            "Requirement already satisfied: six>=1.5 in c:\\users\\home\\appdata\\local\\packages\\pythonsoftwarefoundation.python.3.11_qbz5n2kfra8p0\\localcache\\local-packages\\python311\\site-packages (from python-dateutil>=2.7->matplotlib->koreanize-matplotlib) (1.16.0)\n"
          ]
        }
      ],
      "source": [
        "!pip install koreanize-matplotlib\n",
        "import koreanize_matplotlib"
      ]
    },
    {
      "cell_type": "code",
      "execution_count": 7,
      "metadata": {
        "id": "6JBXm_DmDOTa"
      },
      "outputs": [],
      "source": [
        "import pandas as pd\n",
        "import numpy as np\n",
        "import random\n",
        "import os\n",
        "import seaborn as sns\n",
        "import matplotlib.pyplot as plt\n",
        "from sklearn.preprocessing import LabelEncoder\n",
        "from sklearn.ensemble import RandomForestClassifier\n",
        "from sklearn.model_selection import train_test_split"
      ]
    },
    {
      "cell_type": "markdown",
      "metadata": {
        "id": "o-2f9c9GDb_0"
      },
      "source": [
        "#### 시드 고정"
      ]
    },
    {
      "cell_type": "code",
      "execution_count": 8,
      "metadata": {
        "id": "8TUE4rdfDTC_"
      },
      "outputs": [],
      "source": [
        "def seed_everything(seed):\n",
        "    random.seed(seed)\n",
        "    os.environ['PYTHONHASHSEED'] = str(seed)\n",
        "    np.random.seed(seed)\n",
        "\n",
        "seed_everything(42) # Seed 고정"
      ]
    },
    {
      "cell_type": "markdown",
      "metadata": {
        "id": "toii8f44DeJ4"
      },
      "source": [
        "#### 데이터 확인"
      ]
    },
    {
      "cell_type": "code",
      "execution_count": 9,
      "metadata": {
        "colab": {
          "base_uri": "https://localhost:8080/",
          "height": 469
        },
        "id": "VdpGf5JPDTAv",
        "outputId": "12ce7d30-ac0d-4369-ec88-04d2bedec38d"
      },
      "outputs": [
        {
          "data": {
            "text/html": [
              "<div>\n",
              "<style scoped>\n",
              "    .dataframe tbody tr th:only-of-type {\n",
              "        vertical-align: middle;\n",
              "    }\n",
              "\n",
              "    .dataframe tbody tr th {\n",
              "        vertical-align: top;\n",
              "    }\n",
              "\n",
              "    .dataframe thead th {\n",
              "        text-align: right;\n",
              "    }\n",
              "</style>\n",
              "<table border=\"1\" class=\"dataframe\">\n",
              "  <thead>\n",
              "    <tr style=\"text-align: right;\">\n",
              "      <th></th>\n",
              "      <th>ID</th>\n",
              "      <th>월</th>\n",
              "      <th>요일</th>\n",
              "      <th>시간</th>\n",
              "      <th>소관경찰서</th>\n",
              "      <th>소관지역</th>\n",
              "      <th>사건발생거리</th>\n",
              "      <th>강수량(mm)</th>\n",
              "      <th>강설량(mm)</th>\n",
              "      <th>적설량(cm)</th>\n",
              "      <th>풍향</th>\n",
              "      <th>안개</th>\n",
              "      <th>짙은안개</th>\n",
              "      <th>번개</th>\n",
              "      <th>진눈깨비</th>\n",
              "      <th>서리</th>\n",
              "      <th>연기/연무</th>\n",
              "      <th>눈날림</th>\n",
              "      <th>범죄발생지</th>\n",
              "      <th>TARGET</th>\n",
              "    </tr>\n",
              "  </thead>\n",
              "  <tbody>\n",
              "    <tr>\n",
              "      <th>0</th>\n",
              "      <td>TRAIN_00000</td>\n",
              "      <td>9</td>\n",
              "      <td>화요일</td>\n",
              "      <td>10</td>\n",
              "      <td>137</td>\n",
              "      <td>8.0</td>\n",
              "      <td>2.611124</td>\n",
              "      <td>0.000</td>\n",
              "      <td>0.0</td>\n",
              "      <td>0.0</td>\n",
              "      <td>245.0</td>\n",
              "      <td>0.0</td>\n",
              "      <td>0.0</td>\n",
              "      <td>0.0</td>\n",
              "      <td>0.0</td>\n",
              "      <td>0.0</td>\n",
              "      <td>0.0</td>\n",
              "      <td>0.0</td>\n",
              "      <td>차도</td>\n",
              "      <td>2</td>\n",
              "    </tr>\n",
              "    <tr>\n",
              "      <th>1</th>\n",
              "      <td>TRAIN_00001</td>\n",
              "      <td>11</td>\n",
              "      <td>화요일</td>\n",
              "      <td>6</td>\n",
              "      <td>438</td>\n",
              "      <td>13.0</td>\n",
              "      <td>3.209093</td>\n",
              "      <td>0.000</td>\n",
              "      <td>0.0</td>\n",
              "      <td>0.0</td>\n",
              "      <td>200.0</td>\n",
              "      <td>0.0</td>\n",
              "      <td>0.0</td>\n",
              "      <td>0.0</td>\n",
              "      <td>0.0</td>\n",
              "      <td>0.0</td>\n",
              "      <td>0.0</td>\n",
              "      <td>0.0</td>\n",
              "      <td>차도</td>\n",
              "      <td>0</td>\n",
              "    </tr>\n",
              "    <tr>\n",
              "      <th>2</th>\n",
              "      <td>TRAIN_00002</td>\n",
              "      <td>8</td>\n",
              "      <td>일요일</td>\n",
              "      <td>6</td>\n",
              "      <td>1729</td>\n",
              "      <td>47.0</td>\n",
              "      <td>1.619597</td>\n",
              "      <td>0.000</td>\n",
              "      <td>0.0</td>\n",
              "      <td>0.0</td>\n",
              "      <td>40.0</td>\n",
              "      <td>1.0</td>\n",
              "      <td>0.0</td>\n",
              "      <td>0.0</td>\n",
              "      <td>0.0</td>\n",
              "      <td>0.0</td>\n",
              "      <td>1.0</td>\n",
              "      <td>0.0</td>\n",
              "      <td>인도</td>\n",
              "      <td>1</td>\n",
              "    </tr>\n",
              "    <tr>\n",
              "      <th>3</th>\n",
              "      <td>TRAIN_00003</td>\n",
              "      <td>5</td>\n",
              "      <td>월요일</td>\n",
              "      <td>6</td>\n",
              "      <td>2337</td>\n",
              "      <td>53.0</td>\n",
              "      <td>1.921615</td>\n",
              "      <td>11.375</td>\n",
              "      <td>0.0</td>\n",
              "      <td>0.0</td>\n",
              "      <td>225.0</td>\n",
              "      <td>1.0</td>\n",
              "      <td>1.0</td>\n",
              "      <td>0.0</td>\n",
              "      <td>0.0</td>\n",
              "      <td>0.0</td>\n",
              "      <td>0.0</td>\n",
              "      <td>0.0</td>\n",
              "      <td>주거지</td>\n",
              "      <td>1</td>\n",
              "    </tr>\n",
              "    <tr>\n",
              "      <th>4</th>\n",
              "      <td>TRAIN_00004</td>\n",
              "      <td>9</td>\n",
              "      <td>일요일</td>\n",
              "      <td>11</td>\n",
              "      <td>1439</td>\n",
              "      <td>41.0</td>\n",
              "      <td>1.789721</td>\n",
              "      <td>0.000</td>\n",
              "      <td>0.0</td>\n",
              "      <td>0.0</td>\n",
              "      <td>255.0</td>\n",
              "      <td>0.0</td>\n",
              "      <td>0.0</td>\n",
              "      <td>0.0</td>\n",
              "      <td>0.0</td>\n",
              "      <td>0.0</td>\n",
              "      <td>0.0</td>\n",
              "      <td>0.0</td>\n",
              "      <td>주유소</td>\n",
              "      <td>2</td>\n",
              "    </tr>\n",
              "  </tbody>\n",
              "</table>\n",
              "</div>"
            ],
            "text/plain": [
              "            ID   월   요일  시간  소관경찰서  소관지역    사건발생거리  강수량(mm)  강설량(mm)  적설량(cm)   \n",
              "0  TRAIN_00000   9  화요일  10    137   8.0  2.611124    0.000      0.0      0.0  \\\n",
              "1  TRAIN_00001  11  화요일   6    438  13.0  3.209093    0.000      0.0      0.0   \n",
              "2  TRAIN_00002   8  일요일   6   1729  47.0  1.619597    0.000      0.0      0.0   \n",
              "3  TRAIN_00003   5  월요일   6   2337  53.0  1.921615   11.375      0.0      0.0   \n",
              "4  TRAIN_00004   9  일요일  11   1439  41.0  1.789721    0.000      0.0      0.0   \n",
              "\n",
              "      풍향   안개  짙은안개   번개  진눈깨비   서리  연기/연무  눈날림 범죄발생지  TARGET  \n",
              "0  245.0  0.0   0.0  0.0   0.0  0.0    0.0  0.0    차도       2  \n",
              "1  200.0  0.0   0.0  0.0   0.0  0.0    0.0  0.0    차도       0  \n",
              "2   40.0  1.0   0.0  0.0   0.0  0.0    1.0  0.0    인도       1  \n",
              "3  225.0  1.0   1.0  0.0   0.0  0.0    0.0  0.0   주거지       1  \n",
              "4  255.0  0.0   0.0  0.0   0.0  0.0    0.0  0.0   주유소       2  "
            ]
          },
          "execution_count": 9,
          "metadata": {},
          "output_type": "execute_result"
        }
      ],
      "source": [
        "train = pd.read_csv('C:/Users/HOME/Downloads/범죄분류데이터/train.csv')\n",
        "\n",
        "train.head()"
      ]
    },
    {
      "cell_type": "markdown",
      "metadata": {
        "id": "23uyKhodDlBt"
      },
      "source": [
        "#### 독립변수(x_train), 종속변수(y_train)로 분리하기  \n"
      ]
    },
    {
      "cell_type": "code",
      "execution_count": 10,
      "metadata": {
        "colab": {
          "base_uri": "https://localhost:8080/",
          "height": 469
        },
        "id": "CBoQH-cMDY8q",
        "outputId": "5ccf877a-0d00-4575-d840-9fdacb181a0b"
      },
      "outputs": [
        {
          "data": {
            "text/html": [
              "<div>\n",
              "<style scoped>\n",
              "    .dataframe tbody tr th:only-of-type {\n",
              "        vertical-align: middle;\n",
              "    }\n",
              "\n",
              "    .dataframe tbody tr th {\n",
              "        vertical-align: top;\n",
              "    }\n",
              "\n",
              "    .dataframe thead th {\n",
              "        text-align: right;\n",
              "    }\n",
              "</style>\n",
              "<table border=\"1\" class=\"dataframe\">\n",
              "  <thead>\n",
              "    <tr style=\"text-align: right;\">\n",
              "      <th></th>\n",
              "      <th>월</th>\n",
              "      <th>요일</th>\n",
              "      <th>시간</th>\n",
              "      <th>소관경찰서</th>\n",
              "      <th>소관지역</th>\n",
              "      <th>사건발생거리</th>\n",
              "      <th>강수량(mm)</th>\n",
              "      <th>강설량(mm)</th>\n",
              "      <th>적설량(cm)</th>\n",
              "      <th>풍향</th>\n",
              "      <th>안개</th>\n",
              "      <th>짙은안개</th>\n",
              "      <th>번개</th>\n",
              "      <th>진눈깨비</th>\n",
              "      <th>서리</th>\n",
              "      <th>연기/연무</th>\n",
              "      <th>눈날림</th>\n",
              "      <th>범죄발생지</th>\n",
              "    </tr>\n",
              "  </thead>\n",
              "  <tbody>\n",
              "    <tr>\n",
              "      <th>0</th>\n",
              "      <td>9</td>\n",
              "      <td>화요일</td>\n",
              "      <td>10</td>\n",
              "      <td>137</td>\n",
              "      <td>8.0</td>\n",
              "      <td>2.611124</td>\n",
              "      <td>0.000</td>\n",
              "      <td>0.0</td>\n",
              "      <td>0.0</td>\n",
              "      <td>245.0</td>\n",
              "      <td>0.0</td>\n",
              "      <td>0.0</td>\n",
              "      <td>0.0</td>\n",
              "      <td>0.0</td>\n",
              "      <td>0.0</td>\n",
              "      <td>0.0</td>\n",
              "      <td>0.0</td>\n",
              "      <td>차도</td>\n",
              "    </tr>\n",
              "    <tr>\n",
              "      <th>1</th>\n",
              "      <td>11</td>\n",
              "      <td>화요일</td>\n",
              "      <td>6</td>\n",
              "      <td>438</td>\n",
              "      <td>13.0</td>\n",
              "      <td>3.209093</td>\n",
              "      <td>0.000</td>\n",
              "      <td>0.0</td>\n",
              "      <td>0.0</td>\n",
              "      <td>200.0</td>\n",
              "      <td>0.0</td>\n",
              "      <td>0.0</td>\n",
              "      <td>0.0</td>\n",
              "      <td>0.0</td>\n",
              "      <td>0.0</td>\n",
              "      <td>0.0</td>\n",
              "      <td>0.0</td>\n",
              "      <td>차도</td>\n",
              "    </tr>\n",
              "    <tr>\n",
              "      <th>2</th>\n",
              "      <td>8</td>\n",
              "      <td>일요일</td>\n",
              "      <td>6</td>\n",
              "      <td>1729</td>\n",
              "      <td>47.0</td>\n",
              "      <td>1.619597</td>\n",
              "      <td>0.000</td>\n",
              "      <td>0.0</td>\n",
              "      <td>0.0</td>\n",
              "      <td>40.0</td>\n",
              "      <td>1.0</td>\n",
              "      <td>0.0</td>\n",
              "      <td>0.0</td>\n",
              "      <td>0.0</td>\n",
              "      <td>0.0</td>\n",
              "      <td>1.0</td>\n",
              "      <td>0.0</td>\n",
              "      <td>인도</td>\n",
              "    </tr>\n",
              "    <tr>\n",
              "      <th>3</th>\n",
              "      <td>5</td>\n",
              "      <td>월요일</td>\n",
              "      <td>6</td>\n",
              "      <td>2337</td>\n",
              "      <td>53.0</td>\n",
              "      <td>1.921615</td>\n",
              "      <td>11.375</td>\n",
              "      <td>0.0</td>\n",
              "      <td>0.0</td>\n",
              "      <td>225.0</td>\n",
              "      <td>1.0</td>\n",
              "      <td>1.0</td>\n",
              "      <td>0.0</td>\n",
              "      <td>0.0</td>\n",
              "      <td>0.0</td>\n",
              "      <td>0.0</td>\n",
              "      <td>0.0</td>\n",
              "      <td>주거지</td>\n",
              "    </tr>\n",
              "    <tr>\n",
              "      <th>4</th>\n",
              "      <td>9</td>\n",
              "      <td>일요일</td>\n",
              "      <td>11</td>\n",
              "      <td>1439</td>\n",
              "      <td>41.0</td>\n",
              "      <td>1.789721</td>\n",
              "      <td>0.000</td>\n",
              "      <td>0.0</td>\n",
              "      <td>0.0</td>\n",
              "      <td>255.0</td>\n",
              "      <td>0.0</td>\n",
              "      <td>0.0</td>\n",
              "      <td>0.0</td>\n",
              "      <td>0.0</td>\n",
              "      <td>0.0</td>\n",
              "      <td>0.0</td>\n",
              "      <td>0.0</td>\n",
              "      <td>주유소</td>\n",
              "    </tr>\n",
              "  </tbody>\n",
              "</table>\n",
              "</div>"
            ],
            "text/plain": [
              "    월   요일  시간  소관경찰서  소관지역    사건발생거리  강수량(mm)  강설량(mm)  적설량(cm)     풍향   안개   \n",
              "0   9  화요일  10    137   8.0  2.611124    0.000      0.0      0.0  245.0  0.0  \\\n",
              "1  11  화요일   6    438  13.0  3.209093    0.000      0.0      0.0  200.0  0.0   \n",
              "2   8  일요일   6   1729  47.0  1.619597    0.000      0.0      0.0   40.0  1.0   \n",
              "3   5  월요일   6   2337  53.0  1.921615   11.375      0.0      0.0  225.0  1.0   \n",
              "4   9  일요일  11   1439  41.0  1.789721    0.000      0.0      0.0  255.0  0.0   \n",
              "\n",
              "   짙은안개   번개  진눈깨비   서리  연기/연무  눈날림 범죄발생지  \n",
              "0   0.0  0.0   0.0  0.0    0.0  0.0    차도  \n",
              "1   0.0  0.0   0.0  0.0    0.0  0.0    차도  \n",
              "2   0.0  0.0   0.0  0.0    1.0  0.0    인도  \n",
              "3   1.0  0.0   0.0  0.0    0.0  0.0   주거지  \n",
              "4   0.0  0.0   0.0  0.0    0.0  0.0   주유소  "
            ]
          },
          "execution_count": 10,
          "metadata": {},
          "output_type": "execute_result"
        }
      ],
      "source": [
        "x_train = train.drop(['ID', 'TARGET'], axis = 1)\n",
        "y_train = train['TARGET']\n",
        "\n",
        "x_train.head()"
      ]
    },
    {
      "cell_type": "markdown",
      "metadata": {
        "id": "-n8wsTSDDs3N"
      },
      "source": [
        "#### train , validation data 나누기"
      ]
    },
    {
      "cell_type": "code",
      "execution_count": 11,
      "metadata": {
        "id": "v8CzguxyDpAv"
      },
      "outputs": [],
      "source": [
        "X_tr, X_val, Y_tr, Y_val = train_test_split(x_train, y_train, test_size=0.2, random_state=42)"
      ]
    },
    {
      "cell_type": "markdown",
      "metadata": {
        "id": "PbV64i2jD0qG"
      },
      "source": [
        "#### 라벨인코딩"
      ]
    },
    {
      "cell_type": "code",
      "execution_count": 12,
      "metadata": {
        "id": "7-FlrCrMDzJQ"
      },
      "outputs": [],
      "source": [
        "\n",
        "ordinal_features = ['요일', '범죄발생지']\n",
        "\n",
        "for feature in ordinal_features:\n",
        "    le = LabelEncoder()\n",
        "\n",
        "    # Fit and transform on the training data\n",
        "    le = le.fit(X_tr[feature])\n",
        "    X_tr[feature] = le.transform(X_tr[feature])\n",
        "\n",
        "    # Transform the test data (Note: Only transform, do not fit again to avoid data leakage)\n",
        "    X_val[feature] = le.transform(X_val[feature])\n",
        "\n"
      ]
    },
    {
      "cell_type": "markdown",
      "metadata": {
        "id": "RJQBdeuQD3tH"
      },
      "source": [
        "#### 모델 정의  ( 하이퍼파라미터 설정 x)"
      ]
    },
    {
      "cell_type": "code",
      "execution_count": 13,
      "metadata": {
        "id": "XFaS12nuD2CD"
      },
      "outputs": [],
      "source": [
        "rf_model = RandomForestClassifier(random_state=42)"
      ]
    },
    {
      "cell_type": "markdown",
      "metadata": {
        "id": "zu-Jmk08D_tg"
      },
      "source": [
        "#### 모델 학습"
      ]
    },
    {
      "cell_type": "code",
      "execution_count": 14,
      "metadata": {
        "colab": {
          "base_uri": "https://localhost:8080/",
          "height": 75
        },
        "id": "F96bU3EPD9o_",
        "outputId": "b829ecca-8a23-498a-9cd1-1cf95438b1fc"
      },
      "outputs": [
        {
          "data": {
            "text/html": [
              "<style>#sk-container-id-1 {color: black;background-color: white;}#sk-container-id-1 pre{padding: 0;}#sk-container-id-1 div.sk-toggleable {background-color: white;}#sk-container-id-1 label.sk-toggleable__label {cursor: pointer;display: block;width: 100%;margin-bottom: 0;padding: 0.3em;box-sizing: border-box;text-align: center;}#sk-container-id-1 label.sk-toggleable__label-arrow:before {content: \"▸\";float: left;margin-right: 0.25em;color: #696969;}#sk-container-id-1 label.sk-toggleable__label-arrow:hover:before {color: black;}#sk-container-id-1 div.sk-estimator:hover label.sk-toggleable__label-arrow:before {color: black;}#sk-container-id-1 div.sk-toggleable__content {max-height: 0;max-width: 0;overflow: hidden;text-align: left;background-color: #f0f8ff;}#sk-container-id-1 div.sk-toggleable__content pre {margin: 0.2em;color: black;border-radius: 0.25em;background-color: #f0f8ff;}#sk-container-id-1 input.sk-toggleable__control:checked~div.sk-toggleable__content {max-height: 200px;max-width: 100%;overflow: auto;}#sk-container-id-1 input.sk-toggleable__control:checked~label.sk-toggleable__label-arrow:before {content: \"▾\";}#sk-container-id-1 div.sk-estimator input.sk-toggleable__control:checked~label.sk-toggleable__label {background-color: #d4ebff;}#sk-container-id-1 div.sk-label input.sk-toggleable__control:checked~label.sk-toggleable__label {background-color: #d4ebff;}#sk-container-id-1 input.sk-hidden--visually {border: 0;clip: rect(1px 1px 1px 1px);clip: rect(1px, 1px, 1px, 1px);height: 1px;margin: -1px;overflow: hidden;padding: 0;position: absolute;width: 1px;}#sk-container-id-1 div.sk-estimator {font-family: monospace;background-color: #f0f8ff;border: 1px dotted black;border-radius: 0.25em;box-sizing: border-box;margin-bottom: 0.5em;}#sk-container-id-1 div.sk-estimator:hover {background-color: #d4ebff;}#sk-container-id-1 div.sk-parallel-item::after {content: \"\";width: 100%;border-bottom: 1px solid gray;flex-grow: 1;}#sk-container-id-1 div.sk-label:hover label.sk-toggleable__label {background-color: #d4ebff;}#sk-container-id-1 div.sk-serial::before {content: \"\";position: absolute;border-left: 1px solid gray;box-sizing: border-box;top: 0;bottom: 0;left: 50%;z-index: 0;}#sk-container-id-1 div.sk-serial {display: flex;flex-direction: column;align-items: center;background-color: white;padding-right: 0.2em;padding-left: 0.2em;position: relative;}#sk-container-id-1 div.sk-item {position: relative;z-index: 1;}#sk-container-id-1 div.sk-parallel {display: flex;align-items: stretch;justify-content: center;background-color: white;position: relative;}#sk-container-id-1 div.sk-item::before, #sk-container-id-1 div.sk-parallel-item::before {content: \"\";position: absolute;border-left: 1px solid gray;box-sizing: border-box;top: 0;bottom: 0;left: 50%;z-index: -1;}#sk-container-id-1 div.sk-parallel-item {display: flex;flex-direction: column;z-index: 1;position: relative;background-color: white;}#sk-container-id-1 div.sk-parallel-item:first-child::after {align-self: flex-end;width: 50%;}#sk-container-id-1 div.sk-parallel-item:last-child::after {align-self: flex-start;width: 50%;}#sk-container-id-1 div.sk-parallel-item:only-child::after {width: 0;}#sk-container-id-1 div.sk-dashed-wrapped {border: 1px dashed gray;margin: 0 0.4em 0.5em 0.4em;box-sizing: border-box;padding-bottom: 0.4em;background-color: white;}#sk-container-id-1 div.sk-label label {font-family: monospace;font-weight: bold;display: inline-block;line-height: 1.2em;}#sk-container-id-1 div.sk-label-container {text-align: center;}#sk-container-id-1 div.sk-container {/* jupyter's `normalize.less` sets `[hidden] { display: none; }` but bootstrap.min.css set `[hidden] { display: none !important; }` so we also need the `!important` here to be able to override the default hidden behavior on the sphinx rendered scikit-learn.org. See: https://github.com/scikit-learn/scikit-learn/issues/21755 */display: inline-block !important;position: relative;}#sk-container-id-1 div.sk-text-repr-fallback {display: none;}</style><div id=\"sk-container-id-1\" class=\"sk-top-container\"><div class=\"sk-text-repr-fallback\"><pre>RandomForestClassifier(random_state=42)</pre><b>In a Jupyter environment, please rerun this cell to show the HTML representation or trust the notebook. <br />On GitHub, the HTML representation is unable to render, please try loading this page with nbviewer.org.</b></div><div class=\"sk-container\" hidden><div class=\"sk-item\"><div class=\"sk-estimator sk-toggleable\"><input class=\"sk-toggleable__control sk-hidden--visually\" id=\"sk-estimator-id-1\" type=\"checkbox\" checked><label for=\"sk-estimator-id-1\" class=\"sk-toggleable__label sk-toggleable__label-arrow\">RandomForestClassifier</label><div class=\"sk-toggleable__content\"><pre>RandomForestClassifier(random_state=42)</pre></div></div></div></div></div>"
            ],
            "text/plain": [
              "RandomForestClassifier(random_state=42)"
            ]
          },
          "execution_count": 14,
          "metadata": {},
          "output_type": "execute_result"
        }
      ],
      "source": [
        "rf_model.fit(X_tr, Y_tr)"
      ]
    },
    {
      "cell_type": "markdown",
      "metadata": {
        "id": "J5jgN6tjENzr"
      },
      "source": [
        "#### 예측"
      ]
    },
    {
      "cell_type": "code",
      "execution_count": 15,
      "metadata": {
        "id": "24mCXk7UECl_"
      },
      "outputs": [],
      "source": [
        "pred = rf_model.predict(X_val)"
      ]
    },
    {
      "cell_type": "markdown",
      "metadata": {
        "id": "DdZudTLTEWTL"
      },
      "source": [
        "#### 성능 평가"
      ]
    },
    {
      "cell_type": "code",
      "execution_count": 16,
      "metadata": {
        "colab": {
          "base_uri": "https://localhost:8080/"
        },
        "id": "AAupUpdxEWBs",
        "outputId": "a6b9c5a1-9ef6-4a18-8061-ba2f8a9b1bd3"
      },
      "outputs": [
        {
          "name": "stdout",
          "output_type": "stream",
          "text": [
            "정확도 : 0.5295\n",
            "정말도 : 0.5215\n",
            "Recall: 0.5295\n",
            "F1 Score: 0.5190\n",
            "Confusion Matrix:\n",
            "[[5104 1095 1092]\n",
            " [1977 2342  816]\n",
            " [2086  877 1493]]\n"
          ]
        },
        {
          "data": {
            "image/png": "[encoded data removed]",
            "text/plain": [
              "<Figure size 500x500 with 2 Axes>"
            ]
          },
          "metadata": {},
          "output_type": "display_data"
        }
      ],
      "source": [
        "from sklearn.metrics import accuracy_score, precision_score, recall_score, f1_score, confusion_matrix, classification_report\n",
        "\n",
        "acc=accuracy_score(Y_val,pred)\n",
        "print(f'정확도 : {acc:.4f}')\n",
        "\n",
        "# 정밀도 (precision)\n",
        "precision=precision_score(Y_val,pred, average='weighted')\n",
        "print(f'정말도 : {precision:.4f}')\n",
        "\n",
        "recall = recall_score(Y_val, pred, average='weighted')  # 다중 클래스인 경우 average 설정\n",
        "print(f'Recall: {recall:.4f}')\n",
        "\n",
        "# F1 점수 (F1 Score)\n",
        "f1 = f1_score(Y_val, pred, average='weighted')  # 다중 클래스인 경우 average 설정\n",
        "print(f'F1 Score: {f1:.4f}')\n",
        "\n",
        "# 혼동 행렬 (Confusion Matrix)\n",
        "conf_matrix = confusion_matrix(Y_val, pred)\n",
        "print('Confusion Matrix:')\n",
        "print(conf_matrix)\n",
        "\n",
        "plt.figure(figsize=(5,5))\n",
        "sns.heatmap(conf_matrix, annot=True, fmt='d', cmap='Blues')\n",
        "plt.title('Confusion Matrix')\n",
        "plt.xlabel('Predicted Label')\n",
        "plt.ylabel('True Label')\n",
        "plt.show()"
      ]
    },
    {
      "cell_type": "markdown",
      "metadata": {
        "id": "BPDobW57EfrQ"
      },
      "source": [
        "#### 스케일링 진행"
      ]
    },
    {
      "cell_type": "code",
      "execution_count": 17,
      "metadata": {
        "id": "OHyUgMpPEdeC"
      },
      "outputs": [],
      "source": [
        "from sklearn.preprocessing import MinMaxScaler, StandardScaler, RobustScaler\n",
        "\n",
        "# 연속형 변수만 스케일링 진행\n",
        "\n",
        "\n",
        "scaled_features=['사건발생거리','강수량(mm)','강설량(mm)','적설량(cm)','풍향']\n",
        "\n",
        "# Min-Max Scaling\n",
        "min_max_scaler = MinMaxScaler()\n",
        "df_minmax = train.copy()\n",
        "df_minmax[scaled_features] = min_max_scaler.fit_transform(df_minmax[scaled_features])\n",
        "\n",
        "\n",
        "# Standard Scaling\n",
        "standard_scaler = StandardScaler()\n",
        "df_standard = train.copy()\n",
        "df_standard[scaled_features] = standard_scaler.fit_transform(df_standard[scaled_features])\n",
        "\n",
        "\n",
        "# Robust Scaling\n",
        "robust_scaler = RobustScaler()\n",
        "df_robust = train.copy()\n",
        "df_robust[scaled_features] = robust_scaler.fit_transform(df_robust[scaled_features])\n"
      ]
    },
    {
      "cell_type": "markdown",
      "metadata": {
        "id": "Zg4B6ljHE6Lh"
      },
      "source": [
        "##### 1. Min-Max Scaling 데이터 인코딩 및 train/val 분리"
      ]
    },
    {
      "cell_type": "code",
      "execution_count": 18,
      "metadata": {
        "id": "gOiHIs_OE4Eu"
      },
      "outputs": [],
      "source": [
        "minmax_x_train = df_minmax.drop(['ID', 'TARGET'], axis = 1)\n",
        "minmax_y_train = df_minmax['TARGET']\n",
        "\n",
        "mm_X_tr, mm_X_val, mm_Y_tr, mm_Y_val = train_test_split(minmax_x_train, minmax_y_train, test_size=0.3, random_state=42)\n",
        "\n",
        "\n",
        "ordinal_features = ['요일', '범죄발생지']\n",
        "\n",
        "for feature in ordinal_features:\n",
        "    le = LabelEncoder()\n",
        "\n",
        "    # Fit and transform on the training data\n",
        "    le = le.fit(mm_X_tr[feature])\n",
        "    mm_X_tr[feature] = le.transform(mm_X_tr[feature])\n",
        "\n",
        "    # Transform the test data (Note: Only transform, do not fit again to avoid data leakage)\n",
        "    mm_X_val[feature] = le.transform(mm_X_val[feature])\n",
        "\n"
      ]
    },
    {
      "cell_type": "markdown",
      "metadata": {
        "id": "r-VfHiUqFC1X"
      },
      "source": [
        "##### 2. Standard Scaling 데이터 인코딩 및 train/val 분리"
      ]
    },
    {
      "cell_type": "code",
      "execution_count": 19,
      "metadata": {
        "id": "ycsSDZjVFD7L"
      },
      "outputs": [],
      "source": [
        "st_x_train = df_standard.drop(['ID', 'TARGET'], axis = 1)\n",
        "st_y_train = df_standard['TARGET']\n",
        "\n",
        "st_X_tr, st_X_val, st_Y_tr, st_Y_val = train_test_split(st_x_train, st_y_train, test_size=0.3, random_state=42)\n",
        "\n",
        "\n",
        "ordinal_features = ['요일', '범죄발생지']\n",
        "\n",
        "for feature in ordinal_features:\n",
        "    le = LabelEncoder()\n",
        "\n",
        "    # Fit and transform on the training data\n",
        "    le = le.fit(st_X_tr[feature])\n",
        "    st_X_tr[feature] = le.transform(st_X_tr[feature])\n",
        "\n",
        "    # Transform the test data (Note: Only transform, do not fit again to avoid data leakage)\n",
        "    st_X_val[feature] = le.transform(st_X_val[feature])\n",
        "\n"
      ]
    },
    {
      "cell_type": "markdown",
      "metadata": {
        "id": "2QaWwDBmFKi5"
      },
      "source": [
        "##### 3. Robust Scaling 데이터 인코딩 및 train/val 분리"
      ]
    },
    {
      "cell_type": "code",
      "execution_count": 20,
      "metadata": {
        "id": "KVGQ4gwSFIoQ"
      },
      "outputs": [],
      "source": [
        "rb_x_train = df_robust.drop(['ID', 'TARGET'], axis = 1)\n",
        "rb_y_train = df_robust['TARGET']\n",
        "\n",
        "rb_X_tr, rb_X_val, rb_Y_tr, rb_Y_val = train_test_split(rb_x_train, rb_y_train, test_size=0.3, random_state=42)\n",
        "\n",
        "\n",
        "ordinal_features = ['요일', '범죄발생지']\n",
        "\n",
        "for feature in ordinal_features:\n",
        "    le = LabelEncoder()\n",
        "\n",
        "    # Fit and transform on the training data\n",
        "    le = le.fit(rb_X_tr[feature])\n",
        "    rb_X_tr[feature] = le.transform(rb_X_tr[feature])\n",
        "\n",
        "    # Transform the test data (Note: Only transform, do not fit again to avoid data leakage)\n",
        "    rb_X_val[feature] = le.transform(rb_X_val[feature])\n",
        "\n"
      ]
    },
    {
      "cell_type": "markdown",
      "metadata": {
        "id": "f5HsDw3DFRx-"
      },
      "source": [
        "##### MinMaxScaler 데이터 모델 학습"
      ]
    },
    {
      "cell_type": "code",
      "execution_count": 21,
      "metadata": {
        "id": "iXlrg2MUFNk8"
      },
      "outputs": [],
      "source": [
        "rf_model_mm = RandomForestClassifier(random_state=42 )\n",
        "rf_model_mm.fit(mm_X_tr,mm_Y_tr)\n",
        "\n",
        "y_pred_mm = rf_model_mm.predict(mm_X_val)"
      ]
    },
    {
      "cell_type": "markdown",
      "metadata": {
        "id": "SUwoWMYkFo_b"
      },
      "source": [
        "##### MinMaxScaler 성능평가"
      ]
    },
    {
      "cell_type": "code",
      "execution_count": 22,
      "metadata": {
        "colab": {
          "base_uri": "https://localhost:8080/"
        },
        "id": "_ZtpopGWFj1e",
        "outputId": "7c8389ed-6165-4e7c-f9eb-c8f634971d02"
      },
      "outputs": [
        {
          "name": "stdout",
          "output_type": "stream",
          "text": [
            "정확도 : 0.5280\n",
            "정말도 : 0.5203\n",
            "Recall: 0.5280\n",
            "F1 Score: 0.5173\n",
            "Confusion Matrix:\n",
            "[[7631 1668 1620]\n",
            " [2936 3494 1212]\n",
            " [3247 1268 2246]]\n"
          ]
        },
        {
          "data": {
            "image/png": "[encoded data removed]",
            "text/plain": [
              "<Figure size 500x500 with 2 Axes>"
            ]
          },
          "metadata": {},
          "output_type": "display_data"
        }
      ],
      "source": [
        "\n",
        "acc=accuracy_score(mm_Y_val,y_pred_mm)\n",
        "print(f'정확도 : {acc:.4f}')\n",
        "\n",
        "# 정밀도 (precision)\n",
        "precision=precision_score(mm_Y_val,y_pred_mm, average='weighted')\n",
        "print(f'정말도 : {precision:.4f}')\n",
        "\n",
        "recall = recall_score(mm_Y_val, y_pred_mm, average='weighted')\n",
        "print(f'Recall: {recall:.4f}')\n",
        "\n",
        "# F1 점수 (F1 Score)\n",
        "f1 = f1_score(mm_Y_val, y_pred_mm, average='weighted')\n",
        "print(f'F1 Score: {f1:.4f}')\n",
        "\n",
        "# 혼동 행렬 (Confusion Matrix)\n",
        "conf_matrix = confusion_matrix(mm_Y_val, y_pred_mm)\n",
        "print('Confusion Matrix:')\n",
        "print(conf_matrix)\n",
        "\n",
        "plt.figure(figsize=(5,5))\n",
        "sns.heatmap(conf_matrix, annot=True, fmt='d', cmap='Blues')\n",
        "plt.title('Confusion Matrix')\n",
        "plt.xlabel('Predicted Label')\n",
        "plt.ylabel('True Label')\n",
        "plt.show()"
      ]
    },
    {
      "cell_type": "markdown",
      "metadata": {
        "id": "I-CmWth8HXnX"
      },
      "source": [
        "##### StandardScaler 데이터  모델 학습"
      ]
    },
    {
      "cell_type": "code",
      "execution_count": 23,
      "metadata": {
        "id": "_fD7iCrqFs_0"
      },
      "outputs": [],
      "source": [
        "rf_model_st = RandomForestClassifier(random_state=42 )\n",
        "rf_model_st.fit(st_X_tr, st_Y_tr)\n",
        "\n",
        "y_pred_st = rf_model_st.predict(st_X_val)"
      ]
    },
    {
      "cell_type": "markdown",
      "metadata": {
        "id": "gGw-MJYfInMt"
      },
      "source": [
        "##### StandaradScaler 성능평가"
      ]
    },
    {
      "cell_type": "code",
      "execution_count": 24,
      "metadata": {
        "colab": {
          "base_uri": "https://localhost:8080/"
        },
        "id": "2sHqTCIEHrjl",
        "outputId": "dcaf242a-94c3-41f0-a59b-ffb52e804d46"
      },
      "outputs": [
        {
          "name": "stdout",
          "output_type": "stream",
          "text": [
            "정확도 : 0.5275\n",
            "정말도 : 0.5197\n",
            "Recall: 0.5275\n",
            "F1 Score: 0.5167\n",
            "Confusion Matrix:\n",
            "[[7631 1663 1625]\n",
            " [2939 3484 1219]\n",
            " [3247 1272 2242]]\n"
          ]
        },
        {
          "data": {
            "image/png": "[encoded data removed]",
            "text/plain": [
              "<Figure size 500x500 with 2 Axes>"
            ]
          },
          "metadata": {},
          "output_type": "display_data"
        }
      ],
      "source": [
        "\n",
        "acc=accuracy_score(st_Y_val,y_pred_st)\n",
        "print(f'정확도 : {acc:.4f}')\n",
        "\n",
        "# 정밀도 (precision)\n",
        "precision=precision_score(st_Y_val,y_pred_st, average='weighted')\n",
        "print(f'정말도 : {precision:.4f}')\n",
        "\n",
        "recall = recall_score(st_Y_val, y_pred_st, average='weighted')\n",
        "print(f'Recall: {recall:.4f}')\n",
        "\n",
        "# F1 점수 (F1 Score)\n",
        "f1 = f1_score(st_Y_val, y_pred_st, average='weighted')\n",
        "print(f'F1 Score: {f1:.4f}')\n",
        "\n",
        "# 혼동 행렬 (Confusion Matrix)\n",
        "conf_matrix = confusion_matrix(st_Y_val, y_pred_st)\n",
        "print('Confusion Matrix:')\n",
        "print(conf_matrix)\n",
        "\n",
        "plt.figure(figsize=(5,5))\n",
        "sns.heatmap(conf_matrix, annot=True, fmt='d', cmap='Blues')\n",
        "plt.title('Confusion Matrix')\n",
        "plt.xlabel('Predicted Label')\n",
        "plt.ylabel('True Label')\n",
        "plt.show()"
      ]
    },
    {
      "cell_type": "markdown",
      "metadata": {
        "id": "Za9AvpgmIsXi"
      },
      "source": [
        "##### RobustScaler 데이터 모델 학습"
      ]
    },
    {
      "cell_type": "code",
      "execution_count": 25,
      "metadata": {
        "id": "A0DKVVUNH1eK"
      },
      "outputs": [],
      "source": [
        "gbm_model_rb =  RandomForestClassifier(random_state=42 )\n",
        "gbm_model_rb.fit(rb_X_tr, rb_Y_tr)\n",
        "\n",
        "y_pred_rb = gbm_model_rb.predict(rb_X_val)"
      ]
    },
    {
      "cell_type": "markdown",
      "metadata": {
        "id": "nFH_xM8vJHIY"
      },
      "source": [
        "##### RobustScaler 성능평가"
      ]
    },
    {
      "cell_type": "code",
      "execution_count": 26,
      "metadata": {
        "colab": {
          "base_uri": "https://localhost:8080/"
        },
        "id": "srlmZIR8JGdX",
        "outputId": "4d46e6ae-f438-410a-8a7d-692f74fa4889"
      },
      "outputs": [
        {
          "name": "stdout",
          "output_type": "stream",
          "text": [
            "정확도 : 0.5282\n",
            "정말도 : 0.5206\n",
            "Recall: 0.5282\n",
            "F1 Score: 0.5175\n",
            "Confusion Matrix:\n",
            "[[7630 1657 1632]\n",
            " [2948 3494 1200]\n",
            " [3242 1267 2252]]\n"
          ]
        },
        {
          "data": {
            "image/png": "[encoded data removed]",
            "text/plain": [
              "<Figure size 500x500 with 2 Axes>"
            ]
          },
          "metadata": {},
          "output_type": "display_data"
        }
      ],
      "source": [
        "\n",
        "acc=accuracy_score(rb_Y_val,y_pred_rb)\n",
        "print(f'정확도 : {acc:.4f}')\n",
        "\n",
        "# 정밀도 (precision)\n",
        "precision=precision_score(rb_Y_val,y_pred_rb, average='weighted')\n",
        "print(f'정말도 : {precision:.4f}')\n",
        "\n",
        "recall = recall_score(rb_Y_val, y_pred_rb, average='weighted')\n",
        "print(f'Recall: {recall:.4f}')\n",
        "\n",
        "# F1 점수 (F1 Score)\n",
        "f1 = f1_score(rb_Y_val, y_pred_rb, average='weighted')\n",
        "print(f'F1 Score: {f1:.4f}')\n",
        "\n",
        "# 혼동 행렬 (Confusion Matrix)\n",
        "conf_matrix = confusion_matrix(rb_Y_val, y_pred_rb)\n",
        "print('Confusion Matrix:')\n",
        "print(conf_matrix)\n",
        "\n",
        "plt.figure(figsize=(5,5))\n",
        "sns.heatmap(conf_matrix, annot=True, fmt='d', cmap='Blues')\n",
        "plt.title('Confusion Matrix')\n",
        "plt.xlabel('Predicted Label')\n",
        "plt.ylabel('True Label')\n",
        "plt.show()"
      ]
    },
    {
      "cell_type": "code",
      "execution_count": 27,
      "metadata": {
        "id": "W6dKtmCzI4Cr"
      },
      "outputs": [],
      "source": [
        "# 큰 차이 없지만, 스케일링 하지 않았을 때가 가장 성능이 좋음"
      ]
    },
    {
      "cell_type": "code",
      "execution_count": null,
      "metadata": {
        "id": "xeQL-CneKrn_"
      },
      "outputs": [],
      "source": []
    }
  ],
  "metadata": {
    "colab": {
      "provenance": []
    },
    "kernelspec": {
      "display_name": "Python 3",
      "name": "python3"
    },
    "language_info": {
      "codemirror_mode": {
        "name": "ipython",
        "version": 3
      },
      "file_extension": ".py",
      "mimetype": "text/x-python",
      "name": "python",
      "nbconvert_exporter": "python",
      "pygments_lexer": "ipython3",
      "version": "3.11.8"
    }
  },
  "nbformat": 4,
  "nbformat_minor": 0
}
